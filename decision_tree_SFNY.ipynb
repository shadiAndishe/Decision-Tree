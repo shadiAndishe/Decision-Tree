{
  "nbformat": 4,
  "nbformat_minor": 0,
  "metadata": {
    "kernelspec": {
      "display_name": "Python 3",
      "language": "python",
      "name": "python3"
    },
    "language_info": {
      "codemirror_mode": {
        "name": "ipython",
        "version": 3
      },
      "file_extension": ".py",
      "mimetype": "text/x-python",
      "name": "python",
      "nbconvert_exporter": "python",
      "pygments_lexer": "ipython3",
      "version": "3.5.4"
    },
    "colab": {
      "name": "decision_tree_SFNY.ipynb",
      "provenance": [],
      "toc_visible": true
    }
  },
  "cells": [
    {
      "cell_type": "markdown",
      "metadata": {
        "id": "12mVoQq-iABF"
      },
      "source": [
        "\n",
        "# Decision Tree\n",
        "in this tutorial we learn a Decision Tree from the SFNY dataset using scikit-learn\n"
      ]
    },
    {
      "cell_type": "code",
      "metadata": {
        "id": "d_--ixvHidpQ",
        "colab": {
          "base_uri": "https://localhost:8080/"
        },
        "outputId": "87cd946e-db76-489c-809d-a835f0f4778e"
      },
      "source": [
        "# Load the Drive helper and mount\n",
        "from google.colab import drive\n",
        "drive.mount('/content/drive')"
      ],
      "execution_count": 3,
      "outputs": [
        {
          "output_type": "stream",
          "text": [
            "Drive already mounted at /content/drive; to attempt to forcibly remount, call drive.mount(\"/content/drive\", force_remount=True).\n"
          ],
          "name": "stdout"
        }
      ]
    },
    {
      "cell_type": "code",
      "metadata": {
        "collapsed": true,
        "id": "YS1JnfuZiABM"
      },
      "source": [
        "# To enable the matplotlib outputs to be shown directly on this page\n",
        "%matplotlib inline\n",
        "\n",
        "# numpy\n",
        "# https://docs.scipy.org/doc/numpy-1.13.0/reference/\n",
        "import numpy as np\n",
        "\n",
        "# matplotlib\n",
        "# https://matplotlib.org/\n",
        "import matplotlib.pyplot as plt\n",
        "\n",
        "# graphviz\n",
        "# http://www.graphviz.org/\n",
        "import graphviz\n",
        "# graphviz executables\n",
        "# we add the classpath to graphviz binaries to the system classpath\n",
        "import os\n",
        "os.environ[\"PATH\"] += os.pathsep + 'C:\\\\Program Files (x86)\\\\Graphviz2.38\\\\bin\\\\'\n",
        "\n",
        "# pandas\n",
        "# https://pandas.pydata.org/pandas-docs/\n",
        "import pandas as pd\n",
        "\n",
        "# sckit-learn \n",
        "# http://scikit-learn.org/\n",
        "# Machine Learning in Python\n",
        "from sklearn import tree"
      ],
      "execution_count": 4,
      "outputs": []
    },
    {
      "cell_type": "code",
      "metadata": {
        "id": "eQEQ3VdPiABN",
        "colab": {
          "base_uri": "https://localhost:8080/"
        },
        "outputId": "97482770-313e-4319-fc01-2a1c4081d4a8"
      },
      "source": [
        "np_data = np.genfromtxt('/content/drive/MyDrive/Decision Tree/SFNY.csv', delimiter=',',skip_header=1,dtype=np.int32)\n",
        "np_data"
      ],
      "execution_count": 6,
      "outputs": [
        {
          "output_type": "execute_result",
          "data": {
            "text/plain": [
              "array([[   0,    2,    1, ..., 1000,  999,   10],\n",
              "       [   0,    2,    2, ..., 1418, 1939,    0],\n",
              "       [   0,    2,    2, ..., 2150,  628,    9],\n",
              "       ...,\n",
              "       [   1,    3,    2, ..., 1483, 1113,  106],\n",
              "       [   1,    1,    1, ...,  850,  764,  163],\n",
              "       [   1,    3,    2, ..., 1305,  762,  216]], dtype=int32)"
            ]
          },
          "metadata": {
            "tags": []
          },
          "execution_count": 6
        }
      ]
    },
    {
      "cell_type": "code",
      "metadata": {
        "id": "j65SgH7ciABO"
      },
      "source": [
        "target=np_data[::,0]"
      ],
      "execution_count": 7,
      "outputs": []
    },
    {
      "cell_type": "code",
      "metadata": {
        "id": "Zh9pXY-MiABO"
      },
      "source": [
        "features=np_data[::,1::]"
      ],
      "execution_count": 8,
      "outputs": []
    },
    {
      "cell_type": "code",
      "metadata": {
        "id": "qzZsp4JqiABP",
        "colab": {
          "base_uri": "https://localhost:8080/",
          "height": 1000
        },
        "outputId": "4278ef78-cdb4-459d-f75d-4ac93fb64649"
      },
      "source": [
        "# train the decision tree\n",
        "clf = tree.DecisionTreeClassifier()\n",
        "clf = clf.fit(features, target)\n",
        "\n",
        "# create a graph representation of the decision tree\n",
        "dot_data = tree.export_graphviz(clf, out_file=None, \n",
        "                         feature_names=['beds','bath','price','year_built','sqft','price_per_sqft','elevation'],  \n",
        "                         class_names=['in_sf','in_ny'],  \n",
        "                         filled=True, rounded=True,  \n",
        "                         special_characters=True,max_depth=5\n",
        "                         )  \n",
        "graph = graphviz.Source(dot_data) \n",
        "\n",
        "# render the graph representation as a pdf\n",
        "graph.render(\"SFNY\")\n",
        "graph\n"
      ],
      "execution_count": 9,
      "outputs": [
        {
          "output_type": "execute_result",
          "data": {
            "text/plain": [
              "<graphviz.files.Source at 0x7f55f4d3d8d0>"
            ],
            "image/svg+xml": "<?xml version=\"1.0\" encoding=\"UTF-8\" standalone=\"no\"?>\n<!DOCTYPE svg PUBLIC \"-//W3C//DTD SVG 1.1//EN\"\n \"http://www.w3.org/Graphics/SVG/1.1/DTD/svg11.dtd\">\n<!-- Generated by graphviz version 2.40.1 (20161225.0304)\n -->\n<!-- Title: Tree Pages: 1 -->\n<svg width=\"2038pt\" height=\"758pt\"\n viewBox=\"0.00 0.00 2037.50 758.00\" xmlns=\"http://www.w3.org/2000/svg\" xmlns:xlink=\"http://www.w3.org/1999/xlink\">\n<g id=\"graph0\" class=\"graph\" transform=\"scale(1 1) rotate(0) translate(4 754)\">\n<title>Tree</title>\n<polygon fill=\"#ffffff\" stroke=\"transparent\" points=\"-4,4 -4,-754 2033.5,-754 2033.5,4 -4,4\"/>\n<!-- 0 -->\n<g id=\"node1\" class=\"node\">\n<title>0</title>\n<path fill=\"#deeffb\" stroke=\"#000000\" d=\"M1364,-750C1364,-750 1256,-750 1256,-750 1250,-750 1244,-744 1244,-738 1244,-738 1244,-679 1244,-679 1244,-673 1250,-667 1256,-667 1256,-667 1364,-667 1364,-667 1370,-667 1376,-673 1376,-679 1376,-679 1376,-738 1376,-738 1376,-744 1370,-750 1364,-750\"/>\n<text text-anchor=\"start\" x=\"1258.5\" y=\"-734.8\" font-family=\"Helvetica,sans-Serif\" font-size=\"14.00\" fill=\"#000000\">elevation ≤ 30.5</text>\n<text text-anchor=\"start\" x=\"1272\" y=\"-719.8\" font-family=\"Helvetica,sans-Serif\" font-size=\"14.00\" fill=\"#000000\">gini = 0.496</text>\n<text text-anchor=\"start\" x=\"1262\" y=\"-704.8\" font-family=\"Helvetica,sans-Serif\" font-size=\"14.00\" fill=\"#000000\">samples = 492</text>\n<text text-anchor=\"start\" x=\"1252\" y=\"-689.8\" font-family=\"Helvetica,sans-Serif\" font-size=\"14.00\" fill=\"#000000\">value = [224, 268]</text>\n<text text-anchor=\"start\" x=\"1267.5\" y=\"-674.8\" font-family=\"Helvetica,sans-Serif\" font-size=\"14.00\" fill=\"#000000\">class = in_ny</text>\n</g>\n<!-- 1 -->\n<g id=\"node2\" class=\"node\">\n<title>1</title>\n<path fill=\"#efb387\" stroke=\"#000000\" d=\"M1058.5,-631C1058.5,-631 913.5,-631 913.5,-631 907.5,-631 901.5,-625 901.5,-619 901.5,-619 901.5,-560 901.5,-560 901.5,-554 907.5,-548 913.5,-548 913.5,-548 1058.5,-548 1058.5,-548 1064.5,-548 1070.5,-554 1070.5,-560 1070.5,-560 1070.5,-619 1070.5,-619 1070.5,-625 1064.5,-631 1058.5,-631\"/>\n<text text-anchor=\"start\" x=\"909.5\" y=\"-615.8\" font-family=\"Helvetica,sans-Serif\" font-size=\"14.00\" fill=\"#000000\">price_per_sqft ≤ 1072.5</text>\n<text text-anchor=\"start\" x=\"948\" y=\"-600.8\" font-family=\"Helvetica,sans-Serif\" font-size=\"14.00\" fill=\"#000000\">gini = 0.406</text>\n<text text-anchor=\"start\" x=\"938\" y=\"-585.8\" font-family=\"Helvetica,sans-Serif\" font-size=\"14.00\" fill=\"#000000\">samples = 300</text>\n<text text-anchor=\"start\" x=\"932\" y=\"-570.8\" font-family=\"Helvetica,sans-Serif\" font-size=\"14.00\" fill=\"#000000\">value = [215, 85]</text>\n<text text-anchor=\"start\" x=\"945.5\" y=\"-555.8\" font-family=\"Helvetica,sans-Serif\" font-size=\"14.00\" fill=\"#000000\">class = in_sf</text>\n</g>\n<!-- 0&#45;&gt;1 -->\n<g id=\"edge1\" class=\"edge\">\n<title>0&#45;&gt;1</title>\n<path fill=\"none\" stroke=\"#000000\" d=\"M1243.6519,-684.1314C1196.5937,-666.8477 1132.7589,-643.4022 1080.4026,-624.1726\"/>\n<polygon fill=\"#000000\" stroke=\"#000000\" points=\"1081.3604,-620.7958 1070.7668,-620.6335 1078.947,-627.3666 1081.3604,-620.7958\"/>\n<text text-anchor=\"middle\" x=\"1081.2659\" y=\"-639.622\" font-family=\"Helvetica,sans-Serif\" font-size=\"14.00\" fill=\"#000000\">True</text>\n</g>\n<!-- 70 -->\n<g id=\"node43\" class=\"node\">\n<title>70</title>\n<path fill=\"#43a2e6\" stroke=\"#000000\" d=\"M1521.5,-631C1521.5,-631 1420.5,-631 1420.5,-631 1414.5,-631 1408.5,-625 1408.5,-619 1408.5,-619 1408.5,-560 1408.5,-560 1408.5,-554 1414.5,-548 1420.5,-548 1420.5,-548 1521.5,-548 1521.5,-548 1527.5,-548 1533.5,-554 1533.5,-560 1533.5,-560 1533.5,-619 1533.5,-619 1533.5,-625 1527.5,-631 1521.5,-631\"/>\n<text text-anchor=\"start\" x=\"1416.5\" y=\"-615.8\" font-family=\"Helvetica,sans-Serif\" font-size=\"14.00\" fill=\"#000000\">price ≤ 579450.0</text>\n<text text-anchor=\"start\" x=\"1433\" y=\"-600.8\" font-family=\"Helvetica,sans-Serif\" font-size=\"14.00\" fill=\"#000000\">gini = 0.089</text>\n<text text-anchor=\"start\" x=\"1423\" y=\"-585.8\" font-family=\"Helvetica,sans-Serif\" font-size=\"14.00\" fill=\"#000000\">samples = 192</text>\n<text text-anchor=\"start\" x=\"1421\" y=\"-570.8\" font-family=\"Helvetica,sans-Serif\" font-size=\"14.00\" fill=\"#000000\">value = [9, 183]</text>\n<text text-anchor=\"start\" x=\"1428.5\" y=\"-555.8\" font-family=\"Helvetica,sans-Serif\" font-size=\"14.00\" fill=\"#000000\">class = in_ny</text>\n</g>\n<!-- 0&#45;&gt;70 -->\n<g id=\"edge42\" class=\"edge\">\n<title>0&#45;&gt;70</title>\n<path fill=\"none\" stroke=\"#000000\" d=\"M1366.31,-666.8796C1379.3012,-657.2774 1393.219,-646.9903 1406.5277,-637.1534\"/>\n<polygon fill=\"#000000\" stroke=\"#000000\" points=\"1408.7604,-639.8555 1414.7218,-631.0969 1404.5996,-634.2263 1408.7604,-639.8555\"/>\n<text text-anchor=\"middle\" x=\"1411.0133\" y=\"-652.1203\" font-family=\"Helvetica,sans-Serif\" font-size=\"14.00\" fill=\"#000000\">False</text>\n</g>\n<!-- 2 -->\n<g id=\"node3\" class=\"node\">\n<title>2</title>\n<path fill=\"#e3f1fb\" stroke=\"#000000\" d=\"M663,-512C663,-512 547,-512 547,-512 541,-512 535,-506 535,-500 535,-500 535,-441 535,-441 535,-435 541,-429 547,-429 547,-429 663,-429 663,-429 669,-429 675,-435 675,-441 675,-441 675,-500 675,-500 675,-506 669,-512 663,-512\"/>\n<text text-anchor=\"start\" x=\"543\" y=\"-496.8\" font-family=\"Helvetica,sans-Serif\" font-size=\"14.00\" fill=\"#000000\">year_built ≤ 1972.5</text>\n<text text-anchor=\"start\" x=\"567\" y=\"-481.8\" font-family=\"Helvetica,sans-Serif\" font-size=\"14.00\" fill=\"#000000\">gini = 0.497</text>\n<text text-anchor=\"start\" x=\"557\" y=\"-466.8\" font-family=\"Helvetica,sans-Serif\" font-size=\"14.00\" fill=\"#000000\">samples = 117</text>\n<text text-anchor=\"start\" x=\"555\" y=\"-451.8\" font-family=\"Helvetica,sans-Serif\" font-size=\"14.00\" fill=\"#000000\">value = [54, 63]</text>\n<text text-anchor=\"start\" x=\"562.5\" y=\"-436.8\" font-family=\"Helvetica,sans-Serif\" font-size=\"14.00\" fill=\"#000000\">class = in_ny</text>\n</g>\n<!-- 1&#45;&gt;2 -->\n<g id=\"edge2\" class=\"edge\">\n<title>1&#45;&gt;2</title>\n<path fill=\"none\" stroke=\"#000000\" d=\"M901.4438,-563.09C836.8009,-542.8998 748.2939,-515.2558 684.8495,-495.4399\"/>\n<polygon fill=\"#000000\" stroke=\"#000000\" points=\"685.8723,-492.0927 675.2836,-492.4521 683.7854,-498.7743 685.8723,-492.0927\"/>\n</g>\n<!-- 31 -->\n<g id=\"node24\" class=\"node\">\n<title>31</title>\n<path fill=\"#e99254\" stroke=\"#000000\" d=\"M1036,-512C1036,-512 936,-512 936,-512 930,-512 924,-506 924,-500 924,-500 924,-441 924,-441 924,-435 930,-429 936,-429 936,-429 1036,-429 1036,-429 1042,-429 1048,-435 1048,-441 1048,-441 1048,-500 1048,-500 1048,-506 1042,-512 1036,-512\"/>\n<text text-anchor=\"start\" x=\"939\" y=\"-496.8\" font-family=\"Helvetica,sans-Serif\" font-size=\"14.00\" fill=\"#000000\">elevation ≤ 0.5</text>\n<text text-anchor=\"start\" x=\"948\" y=\"-481.8\" font-family=\"Helvetica,sans-Serif\" font-size=\"14.00\" fill=\"#000000\">gini = 0.212</text>\n<text text-anchor=\"start\" x=\"938\" y=\"-466.8\" font-family=\"Helvetica,sans-Serif\" font-size=\"14.00\" fill=\"#000000\">samples = 183</text>\n<text text-anchor=\"start\" x=\"932\" y=\"-451.8\" font-family=\"Helvetica,sans-Serif\" font-size=\"14.00\" fill=\"#000000\">value = [161, 22]</text>\n<text text-anchor=\"start\" x=\"945.5\" y=\"-436.8\" font-family=\"Helvetica,sans-Serif\" font-size=\"14.00\" fill=\"#000000\">class = in_sf</text>\n</g>\n<!-- 1&#45;&gt;31 -->\n<g id=\"edge23\" class=\"edge\">\n<title>1&#45;&gt;31</title>\n<path fill=\"none\" stroke=\"#000000\" d=\"M986,-547.8796C986,-539.6838 986,-530.9891 986,-522.5013\"/>\n<polygon fill=\"#000000\" stroke=\"#000000\" points=\"989.5001,-522.298 986,-512.2981 982.5001,-522.2981 989.5001,-522.298\"/>\n</g>\n<!-- 3 -->\n<g id=\"node4\" class=\"node\">\n<title>3</title>\n<path fill=\"#efb287\" stroke=\"#000000\" d=\"M429.5,-393C429.5,-393 292.5,-393 292.5,-393 286.5,-393 280.5,-387 280.5,-381 280.5,-381 280.5,-322 280.5,-322 280.5,-316 286.5,-310 292.5,-310 292.5,-310 429.5,-310 429.5,-310 435.5,-310 441.5,-316 441.5,-322 441.5,-322 441.5,-381 441.5,-381 441.5,-387 435.5,-393 429.5,-393\"/>\n<text text-anchor=\"start\" x=\"288.5\" y=\"-377.8\" font-family=\"Helvetica,sans-Serif\" font-size=\"14.00\" fill=\"#000000\">price_per_sqft ≤ 741.5</text>\n<text text-anchor=\"start\" x=\"323\" y=\"-362.8\" font-family=\"Helvetica,sans-Serif\" font-size=\"14.00\" fill=\"#000000\">gini = 0.405</text>\n<text text-anchor=\"start\" x=\"317\" y=\"-347.8\" font-family=\"Helvetica,sans-Serif\" font-size=\"14.00\" fill=\"#000000\">samples = 71</text>\n<text text-anchor=\"start\" x=\"311\" y=\"-332.8\" font-family=\"Helvetica,sans-Serif\" font-size=\"14.00\" fill=\"#000000\">value = [51, 20]</text>\n<text text-anchor=\"start\" x=\"320.5\" y=\"-317.8\" font-family=\"Helvetica,sans-Serif\" font-size=\"14.00\" fill=\"#000000\">class = in_sf</text>\n</g>\n<!-- 2&#45;&gt;3 -->\n<g id=\"edge3\" class=\"edge\">\n<title>2&#45;&gt;3</title>\n<path fill=\"none\" stroke=\"#000000\" d=\"M534.7524,-436.2399C508.696,-423.5321 478.7735,-408.9387 451.1846,-395.4835\"/>\n<polygon fill=\"#000000\" stroke=\"#000000\" points=\"452.449,-392.2061 441.9268,-390.9684 449.3806,-398.4978 452.449,-392.2061\"/>\n</g>\n<!-- 22 -->\n<g id=\"node17\" class=\"node\">\n<title>22</title>\n<path fill=\"#47a4e7\" stroke=\"#000000\" d=\"M646.5,-393C646.5,-393 563.5,-393 563.5,-393 557.5,-393 551.5,-387 551.5,-381 551.5,-381 551.5,-322 551.5,-322 551.5,-316 557.5,-310 563.5,-310 563.5,-310 646.5,-310 646.5,-310 652.5,-310 658.5,-316 658.5,-322 658.5,-322 658.5,-381 658.5,-381 658.5,-387 652.5,-393 646.5,-393\"/>\n<text text-anchor=\"start\" x=\"567\" y=\"-377.8\" font-family=\"Helvetica,sans-Serif\" font-size=\"14.00\" fill=\"#000000\">sqft ≤ 660.0</text>\n<text text-anchor=\"start\" x=\"567\" y=\"-362.8\" font-family=\"Helvetica,sans-Serif\" font-size=\"14.00\" fill=\"#000000\">gini = 0.122</text>\n<text text-anchor=\"start\" x=\"561\" y=\"-347.8\" font-family=\"Helvetica,sans-Serif\" font-size=\"14.00\" fill=\"#000000\">samples = 46</text>\n<text text-anchor=\"start\" x=\"559.5\" y=\"-332.8\" font-family=\"Helvetica,sans-Serif\" font-size=\"14.00\" fill=\"#000000\">value = [3, 43]</text>\n<text text-anchor=\"start\" x=\"562.5\" y=\"-317.8\" font-family=\"Helvetica,sans-Serif\" font-size=\"14.00\" fill=\"#000000\">class = in_ny</text>\n</g>\n<!-- 2&#45;&gt;22 -->\n<g id=\"edge16\" class=\"edge\">\n<title>2&#45;&gt;22</title>\n<path fill=\"none\" stroke=\"#000000\" d=\"M605,-428.8796C605,-420.6838 605,-411.9891 605,-403.5013\"/>\n<polygon fill=\"#000000\" stroke=\"#000000\" points=\"608.5001,-403.298 605,-393.2981 601.5001,-403.2981 608.5001,-403.298\"/>\n</g>\n<!-- 4 -->\n<g id=\"node5\" class=\"node\">\n<title>4</title>\n<path fill=\"#d7ebfa\" stroke=\"#000000\" d=\"M235.5,-274C235.5,-274 140.5,-274 140.5,-274 134.5,-274 128.5,-268 128.5,-262 128.5,-262 128.5,-203 128.5,-203 128.5,-197 134.5,-191 140.5,-191 140.5,-191 235.5,-191 235.5,-191 241.5,-191 247.5,-197 247.5,-203 247.5,-203 247.5,-262 247.5,-262 247.5,-268 241.5,-274 235.5,-274\"/>\n<text text-anchor=\"start\" x=\"136.5\" y=\"-258.8\" font-family=\"Helvetica,sans-Serif\" font-size=\"14.00\" fill=\"#000000\">elevation ≤ 10.5</text>\n<text text-anchor=\"start\" x=\"150\" y=\"-243.8\" font-family=\"Helvetica,sans-Serif\" font-size=\"14.00\" fill=\"#000000\">gini = 0.494</text>\n<text text-anchor=\"start\" x=\"144\" y=\"-228.8\" font-family=\"Helvetica,sans-Serif\" font-size=\"14.00\" fill=\"#000000\">samples = 27</text>\n<text text-anchor=\"start\" x=\"138\" y=\"-213.8\" font-family=\"Helvetica,sans-Serif\" font-size=\"14.00\" fill=\"#000000\">value = [12, 15]</text>\n<text text-anchor=\"start\" x=\"145.5\" y=\"-198.8\" font-family=\"Helvetica,sans-Serif\" font-size=\"14.00\" fill=\"#000000\">class = in_ny</text>\n</g>\n<!-- 3&#45;&gt;4 -->\n<g id=\"edge4\" class=\"edge\">\n<title>3&#45;&gt;4</title>\n<path fill=\"none\" stroke=\"#000000\" d=\"M300.493,-309.8796C286.1574,-300.0187 270.7719,-289.4356 256.1234,-279.3595\"/>\n<polygon fill=\"#000000\" stroke=\"#000000\" points=\"257.8199,-276.2784 247.5973,-273.4947 253.8528,-282.0457 257.8199,-276.2784\"/>\n</g>\n<!-- 11 -->\n<g id=\"node10\" class=\"node\">\n<title>11</title>\n<path fill=\"#e89152\" stroke=\"#000000\" d=\"M433.5,-274C433.5,-274 288.5,-274 288.5,-274 282.5,-274 276.5,-268 276.5,-262 276.5,-262 276.5,-203 276.5,-203 276.5,-197 282.5,-191 288.5,-191 288.5,-191 433.5,-191 433.5,-191 439.5,-191 445.5,-197 445.5,-203 445.5,-203 445.5,-262 445.5,-262 445.5,-268 439.5,-274 433.5,-274\"/>\n<text text-anchor=\"start\" x=\"284.5\" y=\"-258.8\" font-family=\"Helvetica,sans-Serif\" font-size=\"14.00\" fill=\"#000000\">price_per_sqft ≤ 1003.0</text>\n<text text-anchor=\"start\" x=\"323\" y=\"-243.8\" font-family=\"Helvetica,sans-Serif\" font-size=\"14.00\" fill=\"#000000\">gini = 0.201</text>\n<text text-anchor=\"start\" x=\"317\" y=\"-228.8\" font-family=\"Helvetica,sans-Serif\" font-size=\"14.00\" fill=\"#000000\">samples = 44</text>\n<text text-anchor=\"start\" x=\"315.5\" y=\"-213.8\" font-family=\"Helvetica,sans-Serif\" font-size=\"14.00\" fill=\"#000000\">value = [39, 5]</text>\n<text text-anchor=\"start\" x=\"320.5\" y=\"-198.8\" font-family=\"Helvetica,sans-Serif\" font-size=\"14.00\" fill=\"#000000\">class = in_sf</text>\n</g>\n<!-- 3&#45;&gt;11 -->\n<g id=\"edge9\" class=\"edge\">\n<title>3&#45;&gt;11</title>\n<path fill=\"none\" stroke=\"#000000\" d=\"M361,-309.8796C361,-301.6838 361,-292.9891 361,-284.5013\"/>\n<polygon fill=\"#000000\" stroke=\"#000000\" points=\"364.5001,-284.298 361,-274.2981 357.5001,-284.2981 364.5001,-284.298\"/>\n</g>\n<!-- 5 -->\n<g id=\"node6\" class=\"node\">\n<title>5</title>\n<path fill=\"#eca06a\" stroke=\"#000000\" d=\"M104.5,-155C104.5,-155 21.5,-155 21.5,-155 15.5,-155 9.5,-149 9.5,-143 9.5,-143 9.5,-84 9.5,-84 9.5,-78 15.5,-72 21.5,-72 21.5,-72 104.5,-72 104.5,-72 110.5,-72 116.5,-78 116.5,-84 116.5,-84 116.5,-143 116.5,-143 116.5,-149 110.5,-155 104.5,-155\"/>\n<text text-anchor=\"start\" x=\"21\" y=\"-139.8\" font-family=\"Helvetica,sans-Serif\" font-size=\"14.00\" fill=\"#000000\">sqft ≤ 2212.5</text>\n<text text-anchor=\"start\" x=\"29.5\" y=\"-124.8\" font-family=\"Helvetica,sans-Serif\" font-size=\"14.00\" fill=\"#000000\">gini = 0.32</text>\n<text text-anchor=\"start\" x=\"19\" y=\"-109.8\" font-family=\"Helvetica,sans-Serif\" font-size=\"14.00\" fill=\"#000000\">samples = 15</text>\n<text text-anchor=\"start\" x=\"17.5\" y=\"-94.8\" font-family=\"Helvetica,sans-Serif\" font-size=\"14.00\" fill=\"#000000\">value = [12, 3]</text>\n<text text-anchor=\"start\" x=\"22.5\" y=\"-79.8\" font-family=\"Helvetica,sans-Serif\" font-size=\"14.00\" fill=\"#000000\">class = in_sf</text>\n</g>\n<!-- 4&#45;&gt;5 -->\n<g id=\"edge5\" class=\"edge\">\n<title>4&#45;&gt;5</title>\n<path fill=\"none\" stroke=\"#000000\" d=\"M144.2811,-190.8796C134.6314,-181.6931 124.3234,-171.8798 114.4009,-162.4336\"/>\n<polygon fill=\"#000000\" stroke=\"#000000\" points=\"116.5616,-159.6582 106.9055,-155.2981 111.735,-164.7282 116.5616,-159.6582\"/>\n</g>\n<!-- 10 -->\n<g id=\"node9\" class=\"node\">\n<title>10</title>\n<path fill=\"#399de5\" stroke=\"#000000\" d=\"M229.5,-147.5C229.5,-147.5 146.5,-147.5 146.5,-147.5 140.5,-147.5 134.5,-141.5 134.5,-135.5 134.5,-135.5 134.5,-91.5 134.5,-91.5 134.5,-85.5 140.5,-79.5 146.5,-79.5 146.5,-79.5 229.5,-79.5 229.5,-79.5 235.5,-79.5 241.5,-85.5 241.5,-91.5 241.5,-91.5 241.5,-135.5 241.5,-135.5 241.5,-141.5 235.5,-147.5 229.5,-147.5\"/>\n<text text-anchor=\"start\" x=\"158.5\" y=\"-132.3\" font-family=\"Helvetica,sans-Serif\" font-size=\"14.00\" fill=\"#000000\">gini = 0.0</text>\n<text text-anchor=\"start\" x=\"144\" y=\"-117.3\" font-family=\"Helvetica,sans-Serif\" font-size=\"14.00\" fill=\"#000000\">samples = 12</text>\n<text text-anchor=\"start\" x=\"142.5\" y=\"-102.3\" font-family=\"Helvetica,sans-Serif\" font-size=\"14.00\" fill=\"#000000\">value = [0, 12]</text>\n<text text-anchor=\"start\" x=\"145.5\" y=\"-87.3\" font-family=\"Helvetica,sans-Serif\" font-size=\"14.00\" fill=\"#000000\">class = in_ny</text>\n</g>\n<!-- 4&#45;&gt;10 -->\n<g id=\"edge8\" class=\"edge\">\n<title>4&#45;&gt;10</title>\n<path fill=\"none\" stroke=\"#000000\" d=\"M188,-190.8796C188,-180.2134 188,-168.7021 188,-157.9015\"/>\n<polygon fill=\"#000000\" stroke=\"#000000\" points=\"191.5001,-157.8149 188,-147.8149 184.5001,-157.815 191.5001,-157.8149\"/>\n</g>\n<!-- 6 -->\n<g id=\"node7\" class=\"node\">\n<title>6</title>\n<path fill=\"#c0c0c0\" stroke=\"#000000\" d=\"M42,-36C42,-36 12,-36 12,-36 6,-36 0,-30 0,-24 0,-24 0,-12 0,-12 0,-6 6,0 12,0 12,0 42,0 42,0 48,0 54,-6 54,-12 54,-12 54,-24 54,-24 54,-30 48,-36 42,-36\"/>\n<text text-anchor=\"middle\" x=\"27\" y=\"-14.3\" font-family=\"Helvetica,sans-Serif\" font-size=\"14.00\" fill=\"#000000\">(...)</text>\n</g>\n<!-- 5&#45;&gt;6 -->\n<g id=\"edge6\" class=\"edge\">\n<title>5&#45;&gt;6</title>\n<path fill=\"none\" stroke=\"#000000\" d=\"M47.3146,-71.8901C43.9739,-63.0279 40.525,-53.8788 37.4386,-45.6913\"/>\n<polygon fill=\"#000000\" stroke=\"#000000\" points=\"40.6877,-44.3878 33.8853,-36.2651 34.1376,-46.8569 40.6877,-44.3878\"/>\n</g>\n<!-- 7 -->\n<g id=\"node8\" class=\"node\">\n<title>7</title>\n<path fill=\"#c0c0c0\" stroke=\"#000000\" d=\"M114,-36C114,-36 84,-36 84,-36 78,-36 72,-30 72,-24 72,-24 72,-12 72,-12 72,-6 78,0 84,0 84,0 114,0 114,0 120,0 126,-6 126,-12 126,-12 126,-24 126,-24 126,-30 120,-36 114,-36\"/>\n<text text-anchor=\"middle\" x=\"99\" y=\"-14.3\" font-family=\"Helvetica,sans-Serif\" font-size=\"14.00\" fill=\"#000000\">(...)</text>\n</g>\n<!-- 5&#45;&gt;7 -->\n<g id=\"edge7\" class=\"edge\">\n<title>5&#45;&gt;7</title>\n<path fill=\"none\" stroke=\"#000000\" d=\"M78.6854,-71.8901C82.0261,-63.0279 85.475,-53.8788 88.5614,-45.6913\"/>\n<polygon fill=\"#000000\" stroke=\"#000000\" points=\"91.8624,-46.8569 92.1147,-36.2651 85.3123,-44.3878 91.8624,-46.8569\"/>\n</g>\n<!-- 12 -->\n<g id=\"node11\" class=\"node\">\n<title>12</title>\n<path fill=\"#e6843e\" stroke=\"#000000\" d=\"M388,-155C388,-155 272,-155 272,-155 266,-155 260,-149 260,-143 260,-143 260,-84 260,-84 260,-78 266,-72 272,-72 272,-72 388,-72 388,-72 394,-72 400,-78 400,-84 400,-84 400,-143 400,-143 400,-149 394,-155 388,-155\"/>\n<text text-anchor=\"start\" x=\"268\" y=\"-139.8\" font-family=\"Helvetica,sans-Serif\" font-size=\"14.00\" fill=\"#000000\">year_built ≤ 1908.5</text>\n<text text-anchor=\"start\" x=\"292\" y=\"-124.8\" font-family=\"Helvetica,sans-Serif\" font-size=\"14.00\" fill=\"#000000\">gini = 0.051</text>\n<text text-anchor=\"start\" x=\"286\" y=\"-109.8\" font-family=\"Helvetica,sans-Serif\" font-size=\"14.00\" fill=\"#000000\">samples = 38</text>\n<text text-anchor=\"start\" x=\"284.5\" y=\"-94.8\" font-family=\"Helvetica,sans-Serif\" font-size=\"14.00\" fill=\"#000000\">value = [37, 1]</text>\n<text text-anchor=\"start\" x=\"289.5\" y=\"-79.8\" font-family=\"Helvetica,sans-Serif\" font-size=\"14.00\" fill=\"#000000\">class = in_sf</text>\n</g>\n<!-- 11&#45;&gt;12 -->\n<g id=\"edge10\" class=\"edge\">\n<title>11&#45;&gt;12</title>\n<path fill=\"none\" stroke=\"#000000\" d=\"M350.1577,-190.8796C347.9992,-182.5938 345.7079,-173.798 343.4737,-165.2216\"/>\n<polygon fill=\"#000000\" stroke=\"#000000\" points=\"346.7965,-164.0928 340.8886,-155.2981 340.0226,-165.8575 346.7965,-164.0928\"/>\n</g>\n<!-- 17 -->\n<g id=\"node14\" class=\"node\">\n<title>17</title>\n<path fill=\"#9ccef2\" stroke=\"#000000\" d=\"M575.5,-155C575.5,-155 430.5,-155 430.5,-155 424.5,-155 418.5,-149 418.5,-143 418.5,-143 418.5,-84 418.5,-84 418.5,-78 424.5,-72 430.5,-72 430.5,-72 575.5,-72 575.5,-72 581.5,-72 587.5,-78 587.5,-84 587.5,-84 587.5,-143 587.5,-143 587.5,-149 581.5,-155 575.5,-155\"/>\n<text text-anchor=\"start\" x=\"426.5\" y=\"-139.8\" font-family=\"Helvetica,sans-Serif\" font-size=\"14.00\" fill=\"#000000\">price_per_sqft ≤ 1043.0</text>\n<text text-anchor=\"start\" x=\"465\" y=\"-124.8\" font-family=\"Helvetica,sans-Serif\" font-size=\"14.00\" fill=\"#000000\">gini = 0.444</text>\n<text text-anchor=\"start\" x=\"463.5\" y=\"-109.8\" font-family=\"Helvetica,sans-Serif\" font-size=\"14.00\" fill=\"#000000\">samples = 6</text>\n<text text-anchor=\"start\" x=\"461.5\" y=\"-94.8\" font-family=\"Helvetica,sans-Serif\" font-size=\"14.00\" fill=\"#000000\">value = [2, 4]</text>\n<text text-anchor=\"start\" x=\"460.5\" y=\"-79.8\" font-family=\"Helvetica,sans-Serif\" font-size=\"14.00\" fill=\"#000000\">class = in_ny</text>\n</g>\n<!-- 11&#45;&gt;17 -->\n<g id=\"edge13\" class=\"edge\">\n<title>11&#45;&gt;17</title>\n<path fill=\"none\" stroke=\"#000000\" d=\"M410.6647,-190.8796C421.8416,-181.513 433.7962,-171.4948 445.2712,-161.8784\"/>\n<polygon fill=\"#000000\" stroke=\"#000000\" points=\"447.7069,-164.4037 453.1233,-155.2981 443.2107,-159.0386 447.7069,-164.4037\"/>\n</g>\n<!-- 13 -->\n<g id=\"node12\" class=\"node\">\n<title>13</title>\n<path fill=\"#c0c0c0\" stroke=\"#000000\" d=\"M293,-36C293,-36 263,-36 263,-36 257,-36 251,-30 251,-24 251,-24 251,-12 251,-12 251,-6 257,0 263,0 263,0 293,0 293,0 299,0 305,-6 305,-12 305,-12 305,-24 305,-24 305,-30 299,-36 293,-36\"/>\n<text text-anchor=\"middle\" x=\"278\" y=\"-14.3\" font-family=\"Helvetica,sans-Serif\" font-size=\"14.00\" fill=\"#000000\">(...)</text>\n</g>\n<!-- 12&#45;&gt;13 -->\n<g id=\"edge11\" class=\"edge\">\n<title>12&#45;&gt;13</title>\n<path fill=\"none\" stroke=\"#000000\" d=\"M307.3433,-71.8901C302.4118,-62.8331 297.317,-53.4765 292.7848,-45.1528\"/>\n<polygon fill=\"#000000\" stroke=\"#000000\" points=\"295.8014,-43.3738 287.9454,-36.2651 289.6537,-46.7213 295.8014,-43.3738\"/>\n</g>\n<!-- 16 -->\n<g id=\"node13\" class=\"node\">\n<title>16</title>\n<path fill=\"#c0c0c0\" stroke=\"#000000\" d=\"M365,-36C365,-36 335,-36 335,-36 329,-36 323,-30 323,-24 323,-24 323,-12 323,-12 323,-6 329,0 335,0 335,0 365,0 365,0 371,0 377,-6 377,-12 377,-12 377,-24 377,-24 377,-30 371,-36 365,-36\"/>\n<text text-anchor=\"middle\" x=\"350\" y=\"-14.3\" font-family=\"Helvetica,sans-Serif\" font-size=\"14.00\" fill=\"#000000\">(...)</text>\n</g>\n<!-- 12&#45;&gt;16 -->\n<g id=\"edge12\" class=\"edge\">\n<title>12&#45;&gt;16</title>\n<path fill=\"none\" stroke=\"#000000\" d=\"M338.7141,-71.8901C340.5293,-63.2227 342.4019,-54.2808 344.0874,-46.2325\"/>\n<polygon fill=\"#000000\" stroke=\"#000000\" points=\"347.5507,-46.7702 346.1748,-36.2651 340.6993,-45.3353 347.5507,-46.7702\"/>\n</g>\n<!-- 18 -->\n<g id=\"node15\" class=\"node\">\n<title>18</title>\n<path fill=\"#c0c0c0\" stroke=\"#000000\" d=\"M451,-36C451,-36 421,-36 421,-36 415,-36 409,-30 409,-24 409,-24 409,-12 409,-12 409,-6 415,0 421,0 421,0 451,0 451,0 457,0 463,-6 463,-12 463,-12 463,-24 463,-24 463,-30 457,-36 451,-36\"/>\n<text text-anchor=\"middle\" x=\"436\" y=\"-14.3\" font-family=\"Helvetica,sans-Serif\" font-size=\"14.00\" fill=\"#000000\">(...)</text>\n</g>\n<!-- 17&#45;&gt;18 -->\n<g id=\"edge14\" class=\"edge\">\n<title>17&#45;&gt;18</title>\n<path fill=\"none\" stroke=\"#000000\" d=\"M473.8077,-71.8901C467.317,-62.6384 460.6068,-53.0739 454.6739,-44.6173\"/>\n<polygon fill=\"#000000\" stroke=\"#000000\" points=\"457.4228,-42.4412 448.8143,-36.2651 451.6923,-46.4615 457.4228,-42.4412\"/>\n</g>\n<!-- 19 -->\n<g id=\"node16\" class=\"node\">\n<title>19</title>\n<path fill=\"#c0c0c0\" stroke=\"#000000\" d=\"M523,-36C523,-36 493,-36 493,-36 487,-36 481,-30 481,-24 481,-24 481,-12 481,-12 481,-6 487,0 493,0 493,0 523,0 523,0 529,0 535,-6 535,-12 535,-12 535,-24 535,-24 535,-30 529,-36 523,-36\"/>\n<text text-anchor=\"middle\" x=\"508\" y=\"-14.3\" font-family=\"Helvetica,sans-Serif\" font-size=\"14.00\" fill=\"#000000\">(...)</text>\n</g>\n<!-- 17&#45;&gt;19 -->\n<g id=\"edge15\" class=\"edge\">\n<title>17&#45;&gt;19</title>\n<path fill=\"none\" stroke=\"#000000\" d=\"M505.1785,-71.8901C505.6272,-63.3201 506.09,-54.4817 506.5076,-46.5041\"/>\n<polygon fill=\"#000000\" stroke=\"#000000\" points=\"510.016,-46.4345 507.0437,-36.2651 503.0256,-46.0684 510.016,-46.4345\"/>\n</g>\n<!-- 23 -->\n<g id=\"node18\" class=\"node\">\n<title>23</title>\n<path fill=\"#e58139\" stroke=\"#000000\" d=\"M581.5,-266.5C581.5,-266.5 506.5,-266.5 506.5,-266.5 500.5,-266.5 494.5,-260.5 494.5,-254.5 494.5,-254.5 494.5,-210.5 494.5,-210.5 494.5,-204.5 500.5,-198.5 506.5,-198.5 506.5,-198.5 581.5,-198.5 581.5,-198.5 587.5,-198.5 593.5,-204.5 593.5,-210.5 593.5,-210.5 593.5,-254.5 593.5,-254.5 593.5,-260.5 587.5,-266.5 581.5,-266.5\"/>\n<text text-anchor=\"start\" x=\"514.5\" y=\"-251.3\" font-family=\"Helvetica,sans-Serif\" font-size=\"14.00\" fill=\"#000000\">gini = 0.0</text>\n<text text-anchor=\"start\" x=\"504.5\" y=\"-236.3\" font-family=\"Helvetica,sans-Serif\" font-size=\"14.00\" fill=\"#000000\">samples = 1</text>\n<text text-anchor=\"start\" x=\"502.5\" y=\"-221.3\" font-family=\"Helvetica,sans-Serif\" font-size=\"14.00\" fill=\"#000000\">value = [1, 0]</text>\n<text text-anchor=\"start\" x=\"503.5\" y=\"-206.3\" font-family=\"Helvetica,sans-Serif\" font-size=\"14.00\" fill=\"#000000\">class = in_sf</text>\n</g>\n<!-- 22&#45;&gt;23 -->\n<g id=\"edge17\" class=\"edge\">\n<title>22&#45;&gt;23</title>\n<path fill=\"none\" stroke=\"#000000\" d=\"M583.6652,-309.8796C578.0285,-298.8835 571.9315,-286.9893 566.2478,-275.9015\"/>\n<polygon fill=\"#000000\" stroke=\"#000000\" points=\"569.2663,-274.1173 561.59,-266.8149 563.0371,-277.3105 569.2663,-274.1173\"/>\n</g>\n<!-- 24 -->\n<g id=\"node19\" class=\"node\">\n<title>24</title>\n<path fill=\"#42a2e6\" stroke=\"#000000\" d=\"M706.5,-274C706.5,-274 623.5,-274 623.5,-274 617.5,-274 611.5,-268 611.5,-262 611.5,-262 611.5,-203 611.5,-203 611.5,-197 617.5,-191 623.5,-191 623.5,-191 706.5,-191 706.5,-191 712.5,-191 718.5,-197 718.5,-203 718.5,-203 718.5,-262 718.5,-262 718.5,-268 712.5,-274 706.5,-274\"/>\n<text text-anchor=\"start\" x=\"627\" y=\"-258.8\" font-family=\"Helvetica,sans-Serif\" font-size=\"14.00\" fill=\"#000000\">sqft ≤ 827.5</text>\n<text text-anchor=\"start\" x=\"627\" y=\"-243.8\" font-family=\"Helvetica,sans-Serif\" font-size=\"14.00\" fill=\"#000000\">gini = 0.085</text>\n<text text-anchor=\"start\" x=\"621\" y=\"-228.8\" font-family=\"Helvetica,sans-Serif\" font-size=\"14.00\" fill=\"#000000\">samples = 45</text>\n<text text-anchor=\"start\" x=\"619.5\" y=\"-213.8\" font-family=\"Helvetica,sans-Serif\" font-size=\"14.00\" fill=\"#000000\">value = [2, 43]</text>\n<text text-anchor=\"start\" x=\"622.5\" y=\"-198.8\" font-family=\"Helvetica,sans-Serif\" font-size=\"14.00\" fill=\"#000000\">class = in_ny</text>\n</g>\n<!-- 22&#45;&gt;24 -->\n<g id=\"edge18\" class=\"edge\">\n<title>22&#45;&gt;24</title>\n<path fill=\"none\" stroke=\"#000000\" d=\"M625.9851,-309.8796C630.299,-301.3236 634.8872,-292.2238 639.3446,-283.3833\"/>\n<polygon fill=\"#000000\" stroke=\"#000000\" points=\"642.5484,-284.8031 643.9253,-274.2981 636.2979,-281.6515 642.5484,-284.8031\"/>\n</g>\n<!-- 25 -->\n<g id=\"node20\" class=\"node\">\n<title>25</title>\n<path fill=\"#6ab6ec\" stroke=\"#000000\" d=\"M698,-155C698,-155 618,-155 618,-155 612,-155 606,-149 606,-143 606,-143 606,-84 606,-84 606,-78 612,-72 618,-72 618,-72 698,-72 698,-72 704,-72 710,-78 710,-84 710,-84 710,-143 710,-143 710,-149 704,-155 698,-155\"/>\n<text text-anchor=\"start\" x=\"620\" y=\"-139.8\" font-family=\"Helvetica,sans-Serif\" font-size=\"14.00\" fill=\"#000000\">sqft ≤ 814.0</text>\n<text text-anchor=\"start\" x=\"624.5\" y=\"-124.8\" font-family=\"Helvetica,sans-Serif\" font-size=\"14.00\" fill=\"#000000\">gini = 0.32</text>\n<text text-anchor=\"start\" x=\"614\" y=\"-109.8\" font-family=\"Helvetica,sans-Serif\" font-size=\"14.00\" fill=\"#000000\">samples = 10</text>\n<text text-anchor=\"start\" x=\"616.5\" y=\"-94.8\" font-family=\"Helvetica,sans-Serif\" font-size=\"14.00\" fill=\"#000000\">value = [2, 8]</text>\n<text text-anchor=\"start\" x=\"615.5\" y=\"-79.8\" font-family=\"Helvetica,sans-Serif\" font-size=\"14.00\" fill=\"#000000\">class = in_ny</text>\n</g>\n<!-- 24&#45;&gt;25 -->\n<g id=\"edge19\" class=\"edge\">\n<title>24&#45;&gt;25</title>\n<path fill=\"none\" stroke=\"#000000\" d=\"M662.5517,-190.8796C662.0696,-182.6838 661.5582,-173.9891 661.0589,-165.5013\"/>\n<polygon fill=\"#000000\" stroke=\"#000000\" points=\"664.54,-165.0753 660.4587,-155.2981 657.5521,-165.4864 664.54,-165.0753\"/>\n</g>\n<!-- 30 -->\n<g id=\"node23\" class=\"node\">\n<title>30</title>\n<path fill=\"#399de5\" stroke=\"#000000\" d=\"M823.5,-147.5C823.5,-147.5 740.5,-147.5 740.5,-147.5 734.5,-147.5 728.5,-141.5 728.5,-135.5 728.5,-135.5 728.5,-91.5 728.5,-91.5 728.5,-85.5 734.5,-79.5 740.5,-79.5 740.5,-79.5 823.5,-79.5 823.5,-79.5 829.5,-79.5 835.5,-85.5 835.5,-91.5 835.5,-91.5 835.5,-135.5 835.5,-135.5 835.5,-141.5 829.5,-147.5 823.5,-147.5\"/>\n<text text-anchor=\"start\" x=\"752.5\" y=\"-132.3\" font-family=\"Helvetica,sans-Serif\" font-size=\"14.00\" fill=\"#000000\">gini = 0.0</text>\n<text text-anchor=\"start\" x=\"738\" y=\"-117.3\" font-family=\"Helvetica,sans-Serif\" font-size=\"14.00\" fill=\"#000000\">samples = 35</text>\n<text text-anchor=\"start\" x=\"736.5\" y=\"-102.3\" font-family=\"Helvetica,sans-Serif\" font-size=\"14.00\" fill=\"#000000\">value = [0, 35]</text>\n<text text-anchor=\"start\" x=\"739.5\" y=\"-87.3\" font-family=\"Helvetica,sans-Serif\" font-size=\"14.00\" fill=\"#000000\">class = in_ny</text>\n</g>\n<!-- 24&#45;&gt;30 -->\n<g id=\"edge22\" class=\"edge\">\n<title>24&#45;&gt;30</title>\n<path fill=\"none\" stroke=\"#000000\" d=\"M705.9209,-190.8796C717.2728,-179.3337 729.5982,-166.7976 740.957,-155.2446\"/>\n<polygon fill=\"#000000\" stroke=\"#000000\" points=\"743.7466,-157.3995 748.2618,-147.8149 738.7551,-152.4919 743.7466,-157.3995\"/>\n</g>\n<!-- 26 -->\n<g id=\"node21\" class=\"node\">\n<title>26</title>\n<path fill=\"#c0c0c0\" stroke=\"#000000\" d=\"M637,-36C637,-36 607,-36 607,-36 601,-36 595,-30 595,-24 595,-24 595,-12 595,-12 595,-6 601,0 607,0 607,0 637,0 637,0 643,0 649,-6 649,-12 649,-12 649,-24 649,-24 649,-30 643,-36 637,-36\"/>\n<text text-anchor=\"middle\" x=\"622\" y=\"-14.3\" font-family=\"Helvetica,sans-Serif\" font-size=\"14.00\" fill=\"#000000\">(...)</text>\n</g>\n<!-- 25&#45;&gt;26 -->\n<g id=\"edge20\" class=\"edge\">\n<title>25&#45;&gt;26</title>\n<path fill=\"none\" stroke=\"#000000\" d=\"M642.3146,-71.8901C638.9739,-63.0279 635.525,-53.8788 632.4386,-45.6913\"/>\n<polygon fill=\"#000000\" stroke=\"#000000\" points=\"635.6877,-44.3878 628.8853,-36.2651 629.1376,-46.8569 635.6877,-44.3878\"/>\n</g>\n<!-- 29 -->\n<g id=\"node22\" class=\"node\">\n<title>29</title>\n<path fill=\"#c0c0c0\" stroke=\"#000000\" d=\"M709,-36C709,-36 679,-36 679,-36 673,-36 667,-30 667,-24 667,-24 667,-12 667,-12 667,-6 673,0 679,0 679,0 709,0 709,0 715,0 721,-6 721,-12 721,-12 721,-24 721,-24 721,-30 715,-36 709,-36\"/>\n<text text-anchor=\"middle\" x=\"694\" y=\"-14.3\" font-family=\"Helvetica,sans-Serif\" font-size=\"14.00\" fill=\"#000000\">(...)</text>\n</g>\n<!-- 25&#45;&gt;29 -->\n<g id=\"edge21\" class=\"edge\">\n<title>25&#45;&gt;29</title>\n<path fill=\"none\" stroke=\"#000000\" d=\"M673.6854,-71.8901C677.0261,-63.0279 680.475,-53.8788 683.5614,-45.6913\"/>\n<polygon fill=\"#000000\" stroke=\"#000000\" points=\"686.8624,-46.8569 687.1147,-36.2651 680.3123,-44.3878 686.8624,-46.8569\"/>\n</g>\n<!-- 32 -->\n<g id=\"node25\" class=\"node\">\n<title>32</title>\n<path fill=\"#b0d8f5\" stroke=\"#000000\" d=\"M958,-393C958,-393 842,-393 842,-393 836,-393 830,-387 830,-381 830,-381 830,-322 830,-322 830,-316 836,-310 842,-310 842,-310 958,-310 958,-310 964,-310 970,-316 970,-322 970,-322 970,-381 970,-381 970,-387 964,-393 958,-393\"/>\n<text text-anchor=\"start\" x=\"838\" y=\"-377.8\" font-family=\"Helvetica,sans-Serif\" font-size=\"14.00\" fill=\"#000000\">year_built ≤ 2007.0</text>\n<text text-anchor=\"start\" x=\"862\" y=\"-362.8\" font-family=\"Helvetica,sans-Serif\" font-size=\"14.00\" fill=\"#000000\">gini = 0.469</text>\n<text text-anchor=\"start\" x=\"860.5\" y=\"-347.8\" font-family=\"Helvetica,sans-Serif\" font-size=\"14.00\" fill=\"#000000\">samples = 8</text>\n<text text-anchor=\"start\" x=\"858.5\" y=\"-332.8\" font-family=\"Helvetica,sans-Serif\" font-size=\"14.00\" fill=\"#000000\">value = [3, 5]</text>\n<text text-anchor=\"start\" x=\"857.5\" y=\"-317.8\" font-family=\"Helvetica,sans-Serif\" font-size=\"14.00\" fill=\"#000000\">class = in_ny</text>\n</g>\n<!-- 31&#45;&gt;32 -->\n<g id=\"edge24\" class=\"edge\">\n<title>31&#45;&gt;32</title>\n<path fill=\"none\" stroke=\"#000000\" d=\"M955.9214,-428.8796C949.5428,-420.0534 942.746,-410.6485 936.1681,-401.5466\"/>\n<polygon fill=\"#000000\" stroke=\"#000000\" points=\"938.9012,-399.353 930.207,-393.2981 933.2277,-403.4532 938.9012,-399.353\"/>\n</g>\n<!-- 35 -->\n<g id=\"node28\" class=\"node\">\n<title>35</title>\n<path fill=\"#e88f4e\" stroke=\"#000000\" d=\"M1145.5,-393C1145.5,-393 1000.5,-393 1000.5,-393 994.5,-393 988.5,-387 988.5,-381 988.5,-381 988.5,-322 988.5,-322 988.5,-316 994.5,-310 1000.5,-310 1000.5,-310 1145.5,-310 1145.5,-310 1151.5,-310 1157.5,-316 1157.5,-322 1157.5,-322 1157.5,-381 1157.5,-381 1157.5,-387 1151.5,-393 1145.5,-393\"/>\n<text text-anchor=\"start\" x=\"996.5\" y=\"-377.8\" font-family=\"Helvetica,sans-Serif\" font-size=\"14.00\" fill=\"#000000\">price_per_sqft ≤ 1471.0</text>\n<text text-anchor=\"start\" x=\"1035\" y=\"-362.8\" font-family=\"Helvetica,sans-Serif\" font-size=\"14.00\" fill=\"#000000\">gini = 0.175</text>\n<text text-anchor=\"start\" x=\"1025\" y=\"-347.8\" font-family=\"Helvetica,sans-Serif\" font-size=\"14.00\" fill=\"#000000\">samples = 175</text>\n<text text-anchor=\"start\" x=\"1019\" y=\"-332.8\" font-family=\"Helvetica,sans-Serif\" font-size=\"14.00\" fill=\"#000000\">value = [158, 17]</text>\n<text text-anchor=\"start\" x=\"1032.5\" y=\"-317.8\" font-family=\"Helvetica,sans-Serif\" font-size=\"14.00\" fill=\"#000000\">class = in_sf</text>\n</g>\n<!-- 31&#45;&gt;35 -->\n<g id=\"edge27\" class=\"edge\">\n<title>31&#45;&gt;35</title>\n<path fill=\"none\" stroke=\"#000000\" d=\"M1016.4284,-428.8796C1022.8811,-420.0534 1029.757,-410.6485 1036.4113,-401.5466\"/>\n<polygon fill=\"#000000\" stroke=\"#000000\" points=\"1039.3653,-403.4364 1042.4417,-393.2981 1033.7144,-399.3051 1039.3653,-403.4364\"/>\n</g>\n<!-- 33 -->\n<g id=\"node26\" class=\"node\">\n<title>33</title>\n<path fill=\"#e58139\" stroke=\"#000000\" d=\"M830.5,-266.5C830.5,-266.5 755.5,-266.5 755.5,-266.5 749.5,-266.5 743.5,-260.5 743.5,-254.5 743.5,-254.5 743.5,-210.5 743.5,-210.5 743.5,-204.5 749.5,-198.5 755.5,-198.5 755.5,-198.5 830.5,-198.5 830.5,-198.5 836.5,-198.5 842.5,-204.5 842.5,-210.5 842.5,-210.5 842.5,-254.5 842.5,-254.5 842.5,-260.5 836.5,-266.5 830.5,-266.5\"/>\n<text text-anchor=\"start\" x=\"763.5\" y=\"-251.3\" font-family=\"Helvetica,sans-Serif\" font-size=\"14.00\" fill=\"#000000\">gini = 0.0</text>\n<text text-anchor=\"start\" x=\"753.5\" y=\"-236.3\" font-family=\"Helvetica,sans-Serif\" font-size=\"14.00\" fill=\"#000000\">samples = 3</text>\n<text text-anchor=\"start\" x=\"751.5\" y=\"-221.3\" font-family=\"Helvetica,sans-Serif\" font-size=\"14.00\" fill=\"#000000\">value = [3, 0]</text>\n<text text-anchor=\"start\" x=\"752.5\" y=\"-206.3\" font-family=\"Helvetica,sans-Serif\" font-size=\"14.00\" fill=\"#000000\">class = in_sf</text>\n</g>\n<!-- 32&#45;&gt;33 -->\n<g id=\"edge25\" class=\"edge\">\n<title>32&#45;&gt;33</title>\n<path fill=\"none\" stroke=\"#000000\" d=\"M862.5766,-309.8796C852.2939,-298.4436 841.1377,-286.0363 830.8321,-274.575\"/>\n<polygon fill=\"#000000\" stroke=\"#000000\" points=\"833.1435,-271.9108 823.8546,-266.8149 827.9382,-276.5912 833.1435,-271.9108\"/>\n</g>\n<!-- 34 -->\n<g id=\"node27\" class=\"node\">\n<title>34</title>\n<path fill=\"#399de5\" stroke=\"#000000\" d=\"M949.5,-266.5C949.5,-266.5 872.5,-266.5 872.5,-266.5 866.5,-266.5 860.5,-260.5 860.5,-254.5 860.5,-254.5 860.5,-210.5 860.5,-210.5 860.5,-204.5 866.5,-198.5 872.5,-198.5 872.5,-198.5 949.5,-198.5 949.5,-198.5 955.5,-198.5 961.5,-204.5 961.5,-210.5 961.5,-210.5 961.5,-254.5 961.5,-254.5 961.5,-260.5 955.5,-266.5 949.5,-266.5\"/>\n<text text-anchor=\"start\" x=\"881.5\" y=\"-251.3\" font-family=\"Helvetica,sans-Serif\" font-size=\"14.00\" fill=\"#000000\">gini = 0.0</text>\n<text text-anchor=\"start\" x=\"871.5\" y=\"-236.3\" font-family=\"Helvetica,sans-Serif\" font-size=\"14.00\" fill=\"#000000\">samples = 5</text>\n<text text-anchor=\"start\" x=\"869.5\" y=\"-221.3\" font-family=\"Helvetica,sans-Serif\" font-size=\"14.00\" fill=\"#000000\">value = [0, 5]</text>\n<text text-anchor=\"start\" x=\"868.5\" y=\"-206.3\" font-family=\"Helvetica,sans-Serif\" font-size=\"14.00\" fill=\"#000000\">class = in_ny</text>\n</g>\n<!-- 32&#45;&gt;34 -->\n<g id=\"edge26\" class=\"edge\">\n<title>32&#45;&gt;34</title>\n<path fill=\"none\" stroke=\"#000000\" d=\"M903.8473,-309.8796C904.8332,-299.2134 905.8973,-287.7021 906.8957,-276.9015\"/>\n<polygon fill=\"#000000\" stroke=\"#000000\" points=\"910.3926,-277.0947 907.828,-266.8149 903.4224,-276.4503 910.3926,-277.0947\"/>\n</g>\n<!-- 36 -->\n<g id=\"node29\" class=\"node\">\n<title>36</title>\n<path fill=\"#eca26d\" stroke=\"#000000\" d=\"M1121,-274C1121,-274 1005,-274 1005,-274 999,-274 993,-268 993,-262 993,-262 993,-203 993,-203 993,-197 999,-191 1005,-191 1005,-191 1121,-191 1121,-191 1127,-191 1133,-197 1133,-203 1133,-203 1133,-262 1133,-262 1133,-268 1127,-274 1121,-274\"/>\n<text text-anchor=\"start\" x=\"1001\" y=\"-258.8\" font-family=\"Helvetica,sans-Serif\" font-size=\"14.00\" fill=\"#000000\">year_built ≤ 1999.5</text>\n<text text-anchor=\"start\" x=\"1025\" y=\"-243.8\" font-family=\"Helvetica,sans-Serif\" font-size=\"14.00\" fill=\"#000000\">gini = 0.331</text>\n<text text-anchor=\"start\" x=\"1019\" y=\"-228.8\" font-family=\"Helvetica,sans-Serif\" font-size=\"14.00\" fill=\"#000000\">samples = 67</text>\n<text text-anchor=\"start\" x=\"1013\" y=\"-213.8\" font-family=\"Helvetica,sans-Serif\" font-size=\"14.00\" fill=\"#000000\">value = [53, 14]</text>\n<text text-anchor=\"start\" x=\"1022.5\" y=\"-198.8\" font-family=\"Helvetica,sans-Serif\" font-size=\"14.00\" fill=\"#000000\">class = in_sf</text>\n</g>\n<!-- 35&#45;&gt;36 -->\n<g id=\"edge28\" class=\"edge\">\n<title>35&#45;&gt;36</title>\n<path fill=\"none\" stroke=\"#000000\" d=\"M1069.5025,-309.8796C1068.8138,-301.6838 1068.0831,-292.9891 1067.3699,-284.5013\"/>\n<polygon fill=\"#000000\" stroke=\"#000000\" points=\"1070.8376,-283.9698 1066.5124,-274.2981 1063.8622,-284.5561 1070.8376,-283.9698\"/>\n</g>\n<!-- 59 -->\n<g id=\"node36\" class=\"node\">\n<title>59</title>\n<path fill=\"#e6853f\" stroke=\"#000000\" d=\"M1271,-274C1271,-274 1179,-274 1179,-274 1173,-274 1167,-268 1167,-262 1167,-262 1167,-203 1167,-203 1167,-197 1173,-191 1179,-191 1179,-191 1271,-191 1271,-191 1277,-191 1283,-197 1283,-203 1283,-203 1283,-262 1283,-262 1283,-268 1277,-274 1271,-274\"/>\n<text text-anchor=\"start\" x=\"1191\" y=\"-258.8\" font-family=\"Helvetica,sans-Serif\" font-size=\"14.00\" fill=\"#000000\">beds ≤ 4.5</text>\n<text text-anchor=\"start\" x=\"1187\" y=\"-243.8\" font-family=\"Helvetica,sans-Serif\" font-size=\"14.00\" fill=\"#000000\">gini = 0.054</text>\n<text text-anchor=\"start\" x=\"1177\" y=\"-228.8\" font-family=\"Helvetica,sans-Serif\" font-size=\"14.00\" fill=\"#000000\">samples = 108</text>\n<text text-anchor=\"start\" x=\"1175\" y=\"-213.8\" font-family=\"Helvetica,sans-Serif\" font-size=\"14.00\" fill=\"#000000\">value = [105, 3]</text>\n<text text-anchor=\"start\" x=\"1184.5\" y=\"-198.8\" font-family=\"Helvetica,sans-Serif\" font-size=\"14.00\" fill=\"#000000\">class = in_sf</text>\n</g>\n<!-- 35&#45;&gt;59 -->\n<g id=\"edge35\" class=\"edge\">\n<title>35&#45;&gt;59</title>\n<path fill=\"none\" stroke=\"#000000\" d=\"M1126.1622,-309.8796C1138.3115,-300.368 1151.3192,-290.1843 1163.776,-280.432\"/>\n<polygon fill=\"#000000\" stroke=\"#000000\" points=\"1166.1514,-283.0173 1171.8678,-274.0969 1161.8362,-277.5055 1166.1514,-283.0173\"/>\n</g>\n<!-- 37 -->\n<g id=\"node30\" class=\"node\">\n<title>37</title>\n<path fill=\"#e78946\" stroke=\"#000000\" d=\"M948.5,-155C948.5,-155 865.5,-155 865.5,-155 859.5,-155 853.5,-149 853.5,-143 853.5,-143 853.5,-84 853.5,-84 853.5,-78 859.5,-72 865.5,-72 865.5,-72 948.5,-72 948.5,-72 954.5,-72 960.5,-78 960.5,-84 960.5,-84 960.5,-143 960.5,-143 960.5,-149 954.5,-155 948.5,-155\"/>\n<text text-anchor=\"start\" x=\"865\" y=\"-139.8\" font-family=\"Helvetica,sans-Serif\" font-size=\"14.00\" fill=\"#000000\">sqft ≤ 3008.5</text>\n<text text-anchor=\"start\" x=\"869\" y=\"-124.8\" font-family=\"Helvetica,sans-Serif\" font-size=\"14.00\" fill=\"#000000\">gini = 0.117</text>\n<text text-anchor=\"start\" x=\"863\" y=\"-109.8\" font-family=\"Helvetica,sans-Serif\" font-size=\"14.00\" fill=\"#000000\">samples = 48</text>\n<text text-anchor=\"start\" x=\"861.5\" y=\"-94.8\" font-family=\"Helvetica,sans-Serif\" font-size=\"14.00\" fill=\"#000000\">value = [45, 3]</text>\n<text text-anchor=\"start\" x=\"866.5\" y=\"-79.8\" font-family=\"Helvetica,sans-Serif\" font-size=\"14.00\" fill=\"#000000\">class = in_sf</text>\n</g>\n<!-- 36&#45;&gt;37 -->\n<g id=\"edge29\" class=\"edge\">\n<title>36&#45;&gt;37</title>\n<path fill=\"none\" stroke=\"#000000\" d=\"M1008.4388,-190.8796C995.6327,-181.1109 981.8974,-170.6333 968.7997,-160.6421\"/>\n<polygon fill=\"#000000\" stroke=\"#000000\" points=\"970.8145,-157.777 960.7409,-154.4947 966.569,-163.3426 970.8145,-157.777\"/>\n</g>\n<!-- 50 -->\n<g id=\"node33\" class=\"node\">\n<title>50</title>\n<path fill=\"#c9e4f8\" stroke=\"#000000\" d=\"M1135.5,-155C1135.5,-155 990.5,-155 990.5,-155 984.5,-155 978.5,-149 978.5,-143 978.5,-143 978.5,-84 978.5,-84 978.5,-78 984.5,-72 990.5,-72 990.5,-72 1135.5,-72 1135.5,-72 1141.5,-72 1147.5,-78 1147.5,-84 1147.5,-84 1147.5,-143 1147.5,-143 1147.5,-149 1141.5,-155 1135.5,-155\"/>\n<text text-anchor=\"start\" x=\"986.5\" y=\"-139.8\" font-family=\"Helvetica,sans-Serif\" font-size=\"14.00\" fill=\"#000000\">price_per_sqft ≤ 1337.5</text>\n<text text-anchor=\"start\" x=\"1025\" y=\"-124.8\" font-family=\"Helvetica,sans-Serif\" font-size=\"14.00\" fill=\"#000000\">gini = 0.488</text>\n<text text-anchor=\"start\" x=\"1019\" y=\"-109.8\" font-family=\"Helvetica,sans-Serif\" font-size=\"14.00\" fill=\"#000000\">samples = 19</text>\n<text text-anchor=\"start\" x=\"1017.5\" y=\"-94.8\" font-family=\"Helvetica,sans-Serif\" font-size=\"14.00\" fill=\"#000000\">value = [8, 11]</text>\n<text text-anchor=\"start\" x=\"1020.5\" y=\"-79.8\" font-family=\"Helvetica,sans-Serif\" font-size=\"14.00\" fill=\"#000000\">class = in_ny</text>\n</g>\n<!-- 36&#45;&gt;50 -->\n<g id=\"edge32\" class=\"edge\">\n<title>36&#45;&gt;50</title>\n<path fill=\"none\" stroke=\"#000000\" d=\"M1063,-190.8796C1063,-182.6838 1063,-173.9891 1063,-165.5013\"/>\n<polygon fill=\"#000000\" stroke=\"#000000\" points=\"1066.5001,-165.298 1063,-155.2981 1059.5001,-165.2981 1066.5001,-165.298\"/>\n</g>\n<!-- 38 -->\n<g id=\"node31\" class=\"node\">\n<title>38</title>\n<path fill=\"#c0c0c0\" stroke=\"#000000\" d=\"M856,-36C856,-36 826,-36 826,-36 820,-36 814,-30 814,-24 814,-24 814,-12 814,-12 814,-6 820,0 826,0 826,0 856,0 856,0 862,0 868,-6 868,-12 868,-12 868,-24 868,-24 868,-30 862,-36 856,-36\"/>\n<text text-anchor=\"middle\" x=\"841\" y=\"-14.3\" font-family=\"Helvetica,sans-Serif\" font-size=\"14.00\" fill=\"#000000\">(...)</text>\n</g>\n<!-- 37&#45;&gt;38 -->\n<g id=\"edge30\" class=\"edge\">\n<title>37&#45;&gt;38</title>\n<path fill=\"none\" stroke=\"#000000\" d=\"M878.2434,-71.8901C871.8495,-62.6384 865.2396,-53.0739 859.3952,-44.6173\"/>\n<polygon fill=\"#000000\" stroke=\"#000000\" points=\"862.1877,-42.5018 853.623,-36.2651 856.4291,-46.4816 862.1877,-42.5018\"/>\n</g>\n<!-- 47 -->\n<g id=\"node32\" class=\"node\">\n<title>47</title>\n<path fill=\"#c0c0c0\" stroke=\"#000000\" d=\"M928,-36C928,-36 898,-36 898,-36 892,-36 886,-30 886,-24 886,-24 886,-12 886,-12 886,-6 892,0 898,0 898,0 928,0 928,0 934,0 940,-6 940,-12 940,-12 940,-24 940,-24 940,-30 934,-36 928,-36\"/>\n<text text-anchor=\"middle\" x=\"913\" y=\"-14.3\" font-family=\"Helvetica,sans-Serif\" font-size=\"14.00\" fill=\"#000000\">(...)</text>\n</g>\n<!-- 37&#45;&gt;47 -->\n<g id=\"edge31\" class=\"edge\">\n<title>37&#45;&gt;47</title>\n<path fill=\"none\" stroke=\"#000000\" d=\"M909.6142,-71.8901C910.1527,-63.3201 910.708,-54.4817 911.2092,-46.5041\"/>\n<polygon fill=\"#000000\" stroke=\"#000000\" points=\"914.7184,-46.4649 911.8525,-36.2651 907.7322,-46.0259 914.7184,-46.4649\"/>\n</g>\n<!-- 51 -->\n<g id=\"node34\" class=\"node\">\n<title>51</title>\n<path fill=\"#c0c0c0\" stroke=\"#000000\" d=\"M1015,-36C1015,-36 985,-36 985,-36 979,-36 973,-30 973,-24 973,-24 973,-12 973,-12 973,-6 979,0 985,0 985,0 1015,0 1015,0 1021,0 1027,-6 1027,-12 1027,-12 1027,-24 1027,-24 1027,-30 1021,-36 1015,-36\"/>\n<text text-anchor=\"middle\" x=\"1000\" y=\"-14.3\" font-family=\"Helvetica,sans-Serif\" font-size=\"14.00\" fill=\"#000000\">(...)</text>\n</g>\n<!-- 50&#45;&gt;51 -->\n<g id=\"edge33\" class=\"edge\">\n<title>50&#45;&gt;51</title>\n<path fill=\"none\" stroke=\"#000000\" d=\"M1035.5506,-71.8901C1029.4473,-62.6384 1023.1378,-53.0739 1017.559,-44.6173\"/>\n<polygon fill=\"#000000\" stroke=\"#000000\" points=\"1020.4774,-42.6851 1012.0492,-36.2651 1014.6343,-46.5397 1020.4774,-42.6851\"/>\n</g>\n<!-- 52 -->\n<g id=\"node35\" class=\"node\">\n<title>52</title>\n<path fill=\"#c0c0c0\" stroke=\"#000000\" d=\"M1087,-36C1087,-36 1057,-36 1057,-36 1051,-36 1045,-30 1045,-24 1045,-24 1045,-12 1045,-12 1045,-6 1051,0 1057,0 1057,0 1087,0 1087,0 1093,0 1099,-6 1099,-12 1099,-12 1099,-24 1099,-24 1099,-30 1093,-36 1087,-36\"/>\n<text text-anchor=\"middle\" x=\"1072\" y=\"-14.3\" font-family=\"Helvetica,sans-Serif\" font-size=\"14.00\" fill=\"#000000\">(...)</text>\n</g>\n<!-- 50&#45;&gt;52 -->\n<g id=\"edge34\" class=\"edge\">\n<title>50&#45;&gt;52</title>\n<path fill=\"none\" stroke=\"#000000\" d=\"M1066.9213,-71.8901C1067.7382,-63.2227 1068.5809,-54.2808 1069.3393,-46.2325\"/>\n<polygon fill=\"#000000\" stroke=\"#000000\" points=\"1072.8249,-46.5494 1070.2787,-36.2651 1065.8558,-45.8926 1072.8249,-46.5494\"/>\n</g>\n<!-- 60 -->\n<g id=\"node37\" class=\"node\">\n<title>60</title>\n<path fill=\"#e5823b\" stroke=\"#000000\" d=\"M1272.5,-155C1272.5,-155 1177.5,-155 1177.5,-155 1171.5,-155 1165.5,-149 1165.5,-143 1165.5,-143 1165.5,-84 1165.5,-84 1165.5,-78 1171.5,-72 1177.5,-72 1177.5,-72 1272.5,-72 1272.5,-72 1278.5,-72 1284.5,-78 1284.5,-84 1284.5,-84 1284.5,-143 1284.5,-143 1284.5,-149 1278.5,-155 1272.5,-155\"/>\n<text text-anchor=\"start\" x=\"1173.5\" y=\"-139.8\" font-family=\"Helvetica,sans-Serif\" font-size=\"14.00\" fill=\"#000000\">elevation ≤ 18.5</text>\n<text text-anchor=\"start\" x=\"1187\" y=\"-124.8\" font-family=\"Helvetica,sans-Serif\" font-size=\"14.00\" fill=\"#000000\">gini = 0.019</text>\n<text text-anchor=\"start\" x=\"1177\" y=\"-109.8\" font-family=\"Helvetica,sans-Serif\" font-size=\"14.00\" fill=\"#000000\">samples = 102</text>\n<text text-anchor=\"start\" x=\"1175\" y=\"-94.8\" font-family=\"Helvetica,sans-Serif\" font-size=\"14.00\" fill=\"#000000\">value = [101, 1]</text>\n<text text-anchor=\"start\" x=\"1184.5\" y=\"-79.8\" font-family=\"Helvetica,sans-Serif\" font-size=\"14.00\" fill=\"#000000\">class = in_sf</text>\n</g>\n<!-- 59&#45;&gt;60 -->\n<g id=\"edge36\" class=\"edge\">\n<title>59&#45;&gt;60</title>\n<path fill=\"none\" stroke=\"#000000\" d=\"M1225,-190.8796C1225,-182.6838 1225,-173.9891 1225,-165.5013\"/>\n<polygon fill=\"#000000\" stroke=\"#000000\" points=\"1228.5001,-165.298 1225,-155.2981 1221.5001,-165.2981 1228.5001,-165.298\"/>\n</g>\n<!-- 67 -->\n<g id=\"node40\" class=\"node\">\n<title>67</title>\n<path fill=\"#f2c09c\" stroke=\"#000000\" d=\"M1459.5,-155C1459.5,-155 1314.5,-155 1314.5,-155 1308.5,-155 1302.5,-149 1302.5,-143 1302.5,-143 1302.5,-84 1302.5,-84 1302.5,-78 1308.5,-72 1314.5,-72 1314.5,-72 1459.5,-72 1459.5,-72 1465.5,-72 1471.5,-78 1471.5,-84 1471.5,-84 1471.5,-143 1471.5,-143 1471.5,-149 1465.5,-155 1459.5,-155\"/>\n<text text-anchor=\"start\" x=\"1310.5\" y=\"-139.8\" font-family=\"Helvetica,sans-Serif\" font-size=\"14.00\" fill=\"#000000\">price_per_sqft ≤ 2712.0</text>\n<text text-anchor=\"start\" x=\"1349\" y=\"-124.8\" font-family=\"Helvetica,sans-Serif\" font-size=\"14.00\" fill=\"#000000\">gini = 0.444</text>\n<text text-anchor=\"start\" x=\"1347.5\" y=\"-109.8\" font-family=\"Helvetica,sans-Serif\" font-size=\"14.00\" fill=\"#000000\">samples = 6</text>\n<text text-anchor=\"start\" x=\"1345.5\" y=\"-94.8\" font-family=\"Helvetica,sans-Serif\" font-size=\"14.00\" fill=\"#000000\">value = [4, 2]</text>\n<text text-anchor=\"start\" x=\"1346.5\" y=\"-79.8\" font-family=\"Helvetica,sans-Serif\" font-size=\"14.00\" fill=\"#000000\">class = in_sf</text>\n</g>\n<!-- 59&#45;&gt;67 -->\n<g id=\"edge39\" class=\"edge\">\n<title>59&#45;&gt;67</title>\n<path fill=\"none\" stroke=\"#000000\" d=\"M1281.6597,-190.8796C1294.7316,-181.2774 1308.7359,-170.9903 1322.1273,-161.1534\"/>\n<polygon fill=\"#000000\" stroke=\"#000000\" points=\"1324.385,-163.8378 1330.3723,-155.0969 1320.2409,-158.1963 1324.385,-163.8378\"/>\n</g>\n<!-- 61 -->\n<g id=\"node38\" class=\"node\">\n<title>61</title>\n<path fill=\"#c0c0c0\" stroke=\"#000000\" d=\"M1177,-36C1177,-36 1147,-36 1147,-36 1141,-36 1135,-30 1135,-24 1135,-24 1135,-12 1135,-12 1135,-6 1141,0 1147,0 1147,0 1177,0 1177,0 1183,0 1189,-6 1189,-12 1189,-12 1189,-24 1189,-24 1189,-30 1183,-36 1177,-36\"/>\n<text text-anchor=\"middle\" x=\"1162\" y=\"-14.3\" font-family=\"Helvetica,sans-Serif\" font-size=\"14.00\" fill=\"#000000\">(...)</text>\n</g>\n<!-- 60&#45;&gt;61 -->\n<g id=\"edge37\" class=\"edge\">\n<title>60&#45;&gt;61</title>\n<path fill=\"none\" stroke=\"#000000\" d=\"M1197.5506,-71.8901C1191.4473,-62.6384 1185.1378,-53.0739 1179.559,-44.6173\"/>\n<polygon fill=\"#000000\" stroke=\"#000000\" points=\"1182.4774,-42.6851 1174.0492,-36.2651 1176.6343,-46.5397 1182.4774,-42.6851\"/>\n</g>\n<!-- 62 -->\n<g id=\"node39\" class=\"node\">\n<title>62</title>\n<path fill=\"#c0c0c0\" stroke=\"#000000\" d=\"M1249,-36C1249,-36 1219,-36 1219,-36 1213,-36 1207,-30 1207,-24 1207,-24 1207,-12 1207,-12 1207,-6 1213,0 1219,0 1219,0 1249,0 1249,0 1255,0 1261,-6 1261,-12 1261,-12 1261,-24 1261,-24 1261,-30 1255,-36 1249,-36\"/>\n<text text-anchor=\"middle\" x=\"1234\" y=\"-14.3\" font-family=\"Helvetica,sans-Serif\" font-size=\"14.00\" fill=\"#000000\">(...)</text>\n</g>\n<!-- 60&#45;&gt;62 -->\n<g id=\"edge38\" class=\"edge\">\n<title>60&#45;&gt;62</title>\n<path fill=\"none\" stroke=\"#000000\" d=\"M1228.9213,-71.8901C1229.7382,-63.2227 1230.5809,-54.2808 1231.3393,-46.2325\"/>\n<polygon fill=\"#000000\" stroke=\"#000000\" points=\"1234.8249,-46.5494 1232.2787,-36.2651 1227.8558,-45.8926 1234.8249,-46.5494\"/>\n</g>\n<!-- 68 -->\n<g id=\"node41\" class=\"node\">\n<title>68</title>\n<path fill=\"#c0c0c0\" stroke=\"#000000\" d=\"M1366,-36C1366,-36 1336,-36 1336,-36 1330,-36 1324,-30 1324,-24 1324,-24 1324,-12 1324,-12 1324,-6 1330,0 1336,0 1336,0 1366,0 1366,0 1372,0 1378,-6 1378,-12 1378,-12 1378,-24 1378,-24 1378,-30 1372,-36 1366,-36\"/>\n<text text-anchor=\"middle\" x=\"1351\" y=\"-14.3\" font-family=\"Helvetica,sans-Serif\" font-size=\"14.00\" fill=\"#000000\">(...)</text>\n</g>\n<!-- 67&#45;&gt;68 -->\n<g id=\"edge40\" class=\"edge\">\n<title>67&#45;&gt;68</title>\n<path fill=\"none\" stroke=\"#000000\" d=\"M1371.3146,-71.8901C1367.9739,-63.0279 1364.525,-53.8788 1361.4386,-45.6913\"/>\n<polygon fill=\"#000000\" stroke=\"#000000\" points=\"1364.6877,-44.3878 1357.8853,-36.2651 1358.1376,-46.8569 1364.6877,-44.3878\"/>\n</g>\n<!-- 69 -->\n<g id=\"node42\" class=\"node\">\n<title>69</title>\n<path fill=\"#c0c0c0\" stroke=\"#000000\" d=\"M1438,-36C1438,-36 1408,-36 1408,-36 1402,-36 1396,-30 1396,-24 1396,-24 1396,-12 1396,-12 1396,-6 1402,0 1408,0 1408,0 1438,0 1438,0 1444,0 1450,-6 1450,-12 1450,-12 1450,-24 1450,-24 1450,-30 1444,-36 1438,-36\"/>\n<text text-anchor=\"middle\" x=\"1423\" y=\"-14.3\" font-family=\"Helvetica,sans-Serif\" font-size=\"14.00\" fill=\"#000000\">(...)</text>\n</g>\n<!-- 67&#45;&gt;69 -->\n<g id=\"edge41\" class=\"edge\">\n<title>67&#45;&gt;69</title>\n<path fill=\"none\" stroke=\"#000000\" d=\"M1402.6854,-71.8901C1406.0261,-63.0279 1409.475,-53.8788 1412.5614,-45.6913\"/>\n<polygon fill=\"#000000\" stroke=\"#000000\" points=\"1415.8624,-46.8569 1416.1147,-36.2651 1409.3123,-44.3878 1415.8624,-46.8569\"/>\n</g>\n<!-- 71 -->\n<g id=\"node44\" class=\"node\">\n<title>71</title>\n<path fill=\"#a7d3f3\" stroke=\"#000000\" d=\"M1518.5,-512C1518.5,-512 1423.5,-512 1423.5,-512 1417.5,-512 1411.5,-506 1411.5,-500 1411.5,-500 1411.5,-441 1411.5,-441 1411.5,-435 1417.5,-429 1423.5,-429 1423.5,-429 1518.5,-429 1518.5,-429 1524.5,-429 1530.5,-435 1530.5,-441 1530.5,-441 1530.5,-500 1530.5,-500 1530.5,-506 1524.5,-512 1518.5,-512\"/>\n<text text-anchor=\"start\" x=\"1419.5\" y=\"-496.8\" font-family=\"Helvetica,sans-Serif\" font-size=\"14.00\" fill=\"#000000\">elevation ≤ 76.5</text>\n<text text-anchor=\"start\" x=\"1433\" y=\"-481.8\" font-family=\"Helvetica,sans-Serif\" font-size=\"14.00\" fill=\"#000000\">gini = 0.459</text>\n<text text-anchor=\"start\" x=\"1427\" y=\"-466.8\" font-family=\"Helvetica,sans-Serif\" font-size=\"14.00\" fill=\"#000000\">samples = 14</text>\n<text text-anchor=\"start\" x=\"1429.5\" y=\"-451.8\" font-family=\"Helvetica,sans-Serif\" font-size=\"14.00\" fill=\"#000000\">value = [5, 9]</text>\n<text text-anchor=\"start\" x=\"1428.5\" y=\"-436.8\" font-family=\"Helvetica,sans-Serif\" font-size=\"14.00\" fill=\"#000000\">class = in_ny</text>\n</g>\n<!-- 70&#45;&gt;71 -->\n<g id=\"edge43\" class=\"edge\">\n<title>70&#45;&gt;71</title>\n<path fill=\"none\" stroke=\"#000000\" d=\"M1471,-547.8796C1471,-539.6838 1471,-530.9891 1471,-522.5013\"/>\n<polygon fill=\"#000000\" stroke=\"#000000\" points=\"1474.5001,-522.298 1471,-512.2981 1467.5001,-522.2981 1474.5001,-522.298\"/>\n</g>\n<!-- 80 -->\n<g id=\"node53\" class=\"node\">\n<title>80</title>\n<path fill=\"#3e9fe6\" stroke=\"#000000\" d=\"M1738.5,-512C1738.5,-512 1643.5,-512 1643.5,-512 1637.5,-512 1631.5,-506 1631.5,-500 1631.5,-500 1631.5,-441 1631.5,-441 1631.5,-435 1637.5,-429 1643.5,-429 1643.5,-429 1738.5,-429 1738.5,-429 1744.5,-429 1750.5,-435 1750.5,-441 1750.5,-441 1750.5,-500 1750.5,-500 1750.5,-506 1744.5,-512 1738.5,-512\"/>\n<text text-anchor=\"start\" x=\"1639.5\" y=\"-496.8\" font-family=\"Helvetica,sans-Serif\" font-size=\"14.00\" fill=\"#000000\">elevation ≤ 37.0</text>\n<text text-anchor=\"start\" x=\"1653\" y=\"-481.8\" font-family=\"Helvetica,sans-Serif\" font-size=\"14.00\" fill=\"#000000\">gini = 0.044</text>\n<text text-anchor=\"start\" x=\"1643\" y=\"-466.8\" font-family=\"Helvetica,sans-Serif\" font-size=\"14.00\" fill=\"#000000\">samples = 178</text>\n<text text-anchor=\"start\" x=\"1641\" y=\"-451.8\" font-family=\"Helvetica,sans-Serif\" font-size=\"14.00\" fill=\"#000000\">value = [4, 174]</text>\n<text text-anchor=\"start\" x=\"1648.5\" y=\"-436.8\" font-family=\"Helvetica,sans-Serif\" font-size=\"14.00\" fill=\"#000000\">class = in_ny</text>\n</g>\n<!-- 70&#45;&gt;80 -->\n<g id=\"edge52\" class=\"edge\">\n<title>70&#45;&gt;80</title>\n<path fill=\"none\" stroke=\"#000000\" d=\"M1533.7487,-555.5586C1561.3676,-540.6193 1593.8933,-523.0259 1622.1751,-507.728\"/>\n<polygon fill=\"#000000\" stroke=\"#000000\" points=\"1624.0662,-510.6844 1631.1967,-502.8481 1620.7358,-504.5273 1624.0662,-510.6844\"/>\n</g>\n<!-- 72 -->\n<g id=\"node45\" class=\"node\">\n<title>72</title>\n<path fill=\"#fae6d7\" stroke=\"#000000\" d=\"M1459,-393C1459,-393 1343,-393 1343,-393 1337,-393 1331,-387 1331,-381 1331,-381 1331,-322 1331,-322 1331,-316 1337,-310 1343,-310 1343,-310 1459,-310 1459,-310 1465,-310 1471,-316 1471,-322 1471,-322 1471,-381 1471,-381 1471,-387 1465,-393 1459,-393\"/>\n<text text-anchor=\"start\" x=\"1339\" y=\"-377.8\" font-family=\"Helvetica,sans-Serif\" font-size=\"14.00\" fill=\"#000000\">year_built ≤ 1920.0</text>\n<text text-anchor=\"start\" x=\"1363\" y=\"-362.8\" font-family=\"Helvetica,sans-Serif\" font-size=\"14.00\" fill=\"#000000\">gini = 0.494</text>\n<text text-anchor=\"start\" x=\"1361.5\" y=\"-347.8\" font-family=\"Helvetica,sans-Serif\" font-size=\"14.00\" fill=\"#000000\">samples = 9</text>\n<text text-anchor=\"start\" x=\"1359.5\" y=\"-332.8\" font-family=\"Helvetica,sans-Serif\" font-size=\"14.00\" fill=\"#000000\">value = [5, 4]</text>\n<text text-anchor=\"start\" x=\"1360.5\" y=\"-317.8\" font-family=\"Helvetica,sans-Serif\" font-size=\"14.00\" fill=\"#000000\">class = in_sf</text>\n</g>\n<!-- 71&#45;&gt;72 -->\n<g id=\"edge44\" class=\"edge\">\n<title>71&#45;&gt;72</title>\n<path fill=\"none\" stroke=\"#000000\" d=\"M1446.5174,-428.8796C1441.4315,-420.2335 1436.0189,-411.0322 1430.7672,-402.1042\"/>\n<polygon fill=\"#000000\" stroke=\"#000000\" points=\"1433.6741,-400.1428 1425.5871,-393.2981 1427.6406,-403.692 1433.6741,-400.1428\"/>\n</g>\n<!-- 79 -->\n<g id=\"node52\" class=\"node\">\n<title>79</title>\n<path fill=\"#399de5\" stroke=\"#000000\" d=\"M1578.5,-385.5C1578.5,-385.5 1501.5,-385.5 1501.5,-385.5 1495.5,-385.5 1489.5,-379.5 1489.5,-373.5 1489.5,-373.5 1489.5,-329.5 1489.5,-329.5 1489.5,-323.5 1495.5,-317.5 1501.5,-317.5 1501.5,-317.5 1578.5,-317.5 1578.5,-317.5 1584.5,-317.5 1590.5,-323.5 1590.5,-329.5 1590.5,-329.5 1590.5,-373.5 1590.5,-373.5 1590.5,-379.5 1584.5,-385.5 1578.5,-385.5\"/>\n<text text-anchor=\"start\" x=\"1510.5\" y=\"-370.3\" font-family=\"Helvetica,sans-Serif\" font-size=\"14.00\" fill=\"#000000\">gini = 0.0</text>\n<text text-anchor=\"start\" x=\"1500.5\" y=\"-355.3\" font-family=\"Helvetica,sans-Serif\" font-size=\"14.00\" fill=\"#000000\">samples = 5</text>\n<text text-anchor=\"start\" x=\"1498.5\" y=\"-340.3\" font-family=\"Helvetica,sans-Serif\" font-size=\"14.00\" fill=\"#000000\">value = [0, 5]</text>\n<text text-anchor=\"start\" x=\"1497.5\" y=\"-325.3\" font-family=\"Helvetica,sans-Serif\" font-size=\"14.00\" fill=\"#000000\">class = in_ny</text>\n</g>\n<!-- 71&#45;&gt;79 -->\n<g id=\"edge51\" class=\"edge\">\n<title>71&#45;&gt;79</title>\n<path fill=\"none\" stroke=\"#000000\" d=\"M1495.1329,-428.8796C1501.5725,-417.7735 1508.5434,-405.7513 1515.0271,-394.5691\"/>\n<polygon fill=\"#000000\" stroke=\"#000000\" points=\"1518.1148,-396.2215 1520.1031,-385.8149 1512.0591,-392.7102 1518.1148,-396.2215\"/>\n</g>\n<!-- 73 -->\n<g id=\"node46\" class=\"node\">\n<title>73</title>\n<path fill=\"#399de5\" stroke=\"#000000\" d=\"M1438.5,-266.5C1438.5,-266.5 1361.5,-266.5 1361.5,-266.5 1355.5,-266.5 1349.5,-260.5 1349.5,-254.5 1349.5,-254.5 1349.5,-210.5 1349.5,-210.5 1349.5,-204.5 1355.5,-198.5 1361.5,-198.5 1361.5,-198.5 1438.5,-198.5 1438.5,-198.5 1444.5,-198.5 1450.5,-204.5 1450.5,-210.5 1450.5,-210.5 1450.5,-254.5 1450.5,-254.5 1450.5,-260.5 1444.5,-266.5 1438.5,-266.5\"/>\n<text text-anchor=\"start\" x=\"1370.5\" y=\"-251.3\" font-family=\"Helvetica,sans-Serif\" font-size=\"14.00\" fill=\"#000000\">gini = 0.0</text>\n<text text-anchor=\"start\" x=\"1360.5\" y=\"-236.3\" font-family=\"Helvetica,sans-Serif\" font-size=\"14.00\" fill=\"#000000\">samples = 3</text>\n<text text-anchor=\"start\" x=\"1358.5\" y=\"-221.3\" font-family=\"Helvetica,sans-Serif\" font-size=\"14.00\" fill=\"#000000\">value = [0, 3]</text>\n<text text-anchor=\"start\" x=\"1357.5\" y=\"-206.3\" font-family=\"Helvetica,sans-Serif\" font-size=\"14.00\" fill=\"#000000\">class = in_ny</text>\n</g>\n<!-- 72&#45;&gt;73 -->\n<g id=\"edge45\" class=\"edge\">\n<title>72&#45;&gt;73</title>\n<path fill=\"none\" stroke=\"#000000\" d=\"M1400.6502,-309.8796C1400.5606,-299.2134 1400.4639,-287.7021 1400.3731,-276.9015\"/>\n<polygon fill=\"#000000\" stroke=\"#000000\" points=\"1403.8724,-276.7851 1400.2884,-266.8149 1396.8726,-276.844 1403.8724,-276.7851\"/>\n</g>\n<!-- 74 -->\n<g id=\"node47\" class=\"node\">\n<title>74</title>\n<path fill=\"#ea9a61\" stroke=\"#000000\" d=\"M1597,-274C1597,-274 1481,-274 1481,-274 1475,-274 1469,-268 1469,-262 1469,-262 1469,-203 1469,-203 1469,-197 1475,-191 1481,-191 1481,-191 1597,-191 1597,-191 1603,-191 1609,-197 1609,-203 1609,-203 1609,-262 1609,-262 1609,-268 1603,-274 1597,-274\"/>\n<text text-anchor=\"start\" x=\"1477\" y=\"-258.8\" font-family=\"Helvetica,sans-Serif\" font-size=\"14.00\" fill=\"#000000\">year_built ≤ 1952.5</text>\n<text text-anchor=\"start\" x=\"1501\" y=\"-243.8\" font-family=\"Helvetica,sans-Serif\" font-size=\"14.00\" fill=\"#000000\">gini = 0.278</text>\n<text text-anchor=\"start\" x=\"1499.5\" y=\"-228.8\" font-family=\"Helvetica,sans-Serif\" font-size=\"14.00\" fill=\"#000000\">samples = 6</text>\n<text text-anchor=\"start\" x=\"1497.5\" y=\"-213.8\" font-family=\"Helvetica,sans-Serif\" font-size=\"14.00\" fill=\"#000000\">value = [5, 1]</text>\n<text text-anchor=\"start\" x=\"1498.5\" y=\"-198.8\" font-family=\"Helvetica,sans-Serif\" font-size=\"14.00\" fill=\"#000000\">class = in_sf</text>\n</g>\n<!-- 72&#45;&gt;74 -->\n<g id=\"edge46\" class=\"edge\">\n<title>72&#45;&gt;74</title>\n<path fill=\"none\" stroke=\"#000000\" d=\"M1449.2657,-309.8796C1460.1278,-300.513 1471.7456,-290.4948 1482.8973,-280.8784\"/>\n<polygon fill=\"#000000\" stroke=\"#000000\" points=\"1485.2408,-283.4792 1490.5283,-274.2981 1480.6694,-278.178 1485.2408,-283.4792\"/>\n</g>\n<!-- 75 -->\n<g id=\"node48\" class=\"node\">\n<title>75</title>\n<path fill=\"#e58139\" stroke=\"#000000\" d=\"M1576.5,-147.5C1576.5,-147.5 1501.5,-147.5 1501.5,-147.5 1495.5,-147.5 1489.5,-141.5 1489.5,-135.5 1489.5,-135.5 1489.5,-91.5 1489.5,-91.5 1489.5,-85.5 1495.5,-79.5 1501.5,-79.5 1501.5,-79.5 1576.5,-79.5 1576.5,-79.5 1582.5,-79.5 1588.5,-85.5 1588.5,-91.5 1588.5,-91.5 1588.5,-135.5 1588.5,-135.5 1588.5,-141.5 1582.5,-147.5 1576.5,-147.5\"/>\n<text text-anchor=\"start\" x=\"1509.5\" y=\"-132.3\" font-family=\"Helvetica,sans-Serif\" font-size=\"14.00\" fill=\"#000000\">gini = 0.0</text>\n<text text-anchor=\"start\" x=\"1499.5\" y=\"-117.3\" font-family=\"Helvetica,sans-Serif\" font-size=\"14.00\" fill=\"#000000\">samples = 4</text>\n<text text-anchor=\"start\" x=\"1497.5\" y=\"-102.3\" font-family=\"Helvetica,sans-Serif\" font-size=\"14.00\" fill=\"#000000\">value = [4, 0]</text>\n<text text-anchor=\"start\" x=\"1498.5\" y=\"-87.3\" font-family=\"Helvetica,sans-Serif\" font-size=\"14.00\" fill=\"#000000\">class = in_sf</text>\n</g>\n<!-- 74&#45;&gt;75 -->\n<g id=\"edge47\" class=\"edge\">\n<title>74&#45;&gt;75</title>\n<path fill=\"none\" stroke=\"#000000\" d=\"M1539,-190.8796C1539,-180.2134 1539,-168.7021 1539,-157.9015\"/>\n<polygon fill=\"#000000\" stroke=\"#000000\" points=\"1542.5001,-157.8149 1539,-147.8149 1535.5001,-157.815 1542.5001,-157.8149\"/>\n</g>\n<!-- 76 -->\n<g id=\"node49\" class=\"node\">\n<title>76</title>\n<path fill=\"#ffffff\" stroke=\"#000000\" d=\"M1755.5,-155C1755.5,-155 1618.5,-155 1618.5,-155 1612.5,-155 1606.5,-149 1606.5,-143 1606.5,-143 1606.5,-84 1606.5,-84 1606.5,-78 1612.5,-72 1618.5,-72 1618.5,-72 1755.5,-72 1755.5,-72 1761.5,-72 1767.5,-78 1767.5,-84 1767.5,-84 1767.5,-143 1767.5,-143 1767.5,-149 1761.5,-155 1755.5,-155\"/>\n<text text-anchor=\"start\" x=\"1614.5\" y=\"-139.8\" font-family=\"Helvetica,sans-Serif\" font-size=\"14.00\" fill=\"#000000\">price_per_sqft ≤ 708.0</text>\n<text text-anchor=\"start\" x=\"1657.5\" y=\"-124.8\" font-family=\"Helvetica,sans-Serif\" font-size=\"14.00\" fill=\"#000000\">gini = 0.5</text>\n<text text-anchor=\"start\" x=\"1647.5\" y=\"-109.8\" font-family=\"Helvetica,sans-Serif\" font-size=\"14.00\" fill=\"#000000\">samples = 2</text>\n<text text-anchor=\"start\" x=\"1645.5\" y=\"-94.8\" font-family=\"Helvetica,sans-Serif\" font-size=\"14.00\" fill=\"#000000\">value = [1, 1]</text>\n<text text-anchor=\"start\" x=\"1646.5\" y=\"-79.8\" font-family=\"Helvetica,sans-Serif\" font-size=\"14.00\" fill=\"#000000\">class = in_sf</text>\n</g>\n<!-- 74&#45;&gt;76 -->\n<g id=\"edge48\" class=\"edge\">\n<title>74&#45;&gt;76</title>\n<path fill=\"none\" stroke=\"#000000\" d=\"M1590.7632,-190.8796C1602.5928,-181.368 1615.2581,-171.1843 1627.3871,-161.432\"/>\n<polygon fill=\"#000000\" stroke=\"#000000\" points=\"1629.6659,-164.0908 1635.266,-155.0969 1625.2796,-158.6355 1629.6659,-164.0908\"/>\n</g>\n<!-- 77 -->\n<g id=\"node50\" class=\"node\">\n<title>77</title>\n<path fill=\"#c0c0c0\" stroke=\"#000000\" d=\"M1656,-36C1656,-36 1626,-36 1626,-36 1620,-36 1614,-30 1614,-24 1614,-24 1614,-12 1614,-12 1614,-6 1620,0 1626,0 1626,0 1656,0 1656,0 1662,0 1668,-6 1668,-12 1668,-12 1668,-24 1668,-24 1668,-30 1662,-36 1656,-36\"/>\n<text text-anchor=\"middle\" x=\"1641\" y=\"-14.3\" font-family=\"Helvetica,sans-Serif\" font-size=\"14.00\" fill=\"#000000\">(...)</text>\n</g>\n<!-- 76&#45;&gt;77 -->\n<g id=\"edge49\" class=\"edge\">\n<title>76&#45;&gt;77</title>\n<path fill=\"none\" stroke=\"#000000\" d=\"M1666.9575,-71.8901C1662.6419,-62.9305 1658.1851,-53.6777 1654.2083,-45.4217\"/>\n<polygon fill=\"#000000\" stroke=\"#000000\" points=\"1657.2908,-43.7556 1649.7979,-36.2651 1650.9842,-46.7933 1657.2908,-43.7556\"/>\n</g>\n<!-- 78 -->\n<g id=\"node51\" class=\"node\">\n<title>78</title>\n<path fill=\"#c0c0c0\" stroke=\"#000000\" d=\"M1728,-36C1728,-36 1698,-36 1698,-36 1692,-36 1686,-30 1686,-24 1686,-24 1686,-12 1686,-12 1686,-6 1692,0 1698,0 1698,0 1728,0 1728,0 1734,0 1740,-6 1740,-12 1740,-12 1740,-24 1740,-24 1740,-30 1734,-36 1728,-36\"/>\n<text text-anchor=\"middle\" x=\"1713\" y=\"-14.3\" font-family=\"Helvetica,sans-Serif\" font-size=\"14.00\" fill=\"#000000\">(...)</text>\n</g>\n<!-- 76&#45;&gt;78 -->\n<g id=\"edge50\" class=\"edge\">\n<title>76&#45;&gt;78</title>\n<path fill=\"none\" stroke=\"#000000\" d=\"M1698.3283,-71.8901C1700.7146,-63.1253 1703.1772,-54.0798 1705.3874,-45.9615\"/>\n<polygon fill=\"#000000\" stroke=\"#000000\" points=\"1708.7774,-46.8333 1708.0273,-36.2651 1702.0232,-44.9945 1708.7774,-46.8333\"/>\n</g>\n<!-- 81 -->\n<g id=\"node54\" class=\"node\">\n<title>81</title>\n<path fill=\"#6eb7ec\" stroke=\"#000000\" d=\"M1759.5,-393C1759.5,-393 1622.5,-393 1622.5,-393 1616.5,-393 1610.5,-387 1610.5,-381 1610.5,-381 1610.5,-322 1610.5,-322 1610.5,-316 1616.5,-310 1622.5,-310 1622.5,-310 1759.5,-310 1759.5,-310 1765.5,-310 1771.5,-316 1771.5,-322 1771.5,-322 1771.5,-381 1771.5,-381 1771.5,-387 1765.5,-393 1759.5,-393\"/>\n<text text-anchor=\"start\" x=\"1618.5\" y=\"-377.8\" font-family=\"Helvetica,sans-Serif\" font-size=\"14.00\" fill=\"#000000\">price_per_sqft ≤ 879.5</text>\n<text text-anchor=\"start\" x=\"1653\" y=\"-362.8\" font-family=\"Helvetica,sans-Serif\" font-size=\"14.00\" fill=\"#000000\">gini = 0.332</text>\n<text text-anchor=\"start\" x=\"1647\" y=\"-347.8\" font-family=\"Helvetica,sans-Serif\" font-size=\"14.00\" fill=\"#000000\">samples = 19</text>\n<text text-anchor=\"start\" x=\"1645.5\" y=\"-332.8\" font-family=\"Helvetica,sans-Serif\" font-size=\"14.00\" fill=\"#000000\">value = [4, 15]</text>\n<text text-anchor=\"start\" x=\"1648.5\" y=\"-317.8\" font-family=\"Helvetica,sans-Serif\" font-size=\"14.00\" fill=\"#000000\">class = in_ny</text>\n</g>\n<!-- 80&#45;&gt;81 -->\n<g id=\"edge53\" class=\"edge\">\n<title>80&#45;&gt;81</title>\n<path fill=\"none\" stroke=\"#000000\" d=\"M1691,-428.8796C1691,-420.6838 1691,-411.9891 1691,-403.5013\"/>\n<polygon fill=\"#000000\" stroke=\"#000000\" points=\"1694.5001,-403.298 1691,-393.2981 1687.5001,-403.2981 1694.5001,-403.298\"/>\n</g>\n<!-- 90 -->\n<g id=\"node61\" class=\"node\">\n<title>90</title>\n<path fill=\"#399de5\" stroke=\"#000000\" d=\"M1894,-385.5C1894,-385.5 1802,-385.5 1802,-385.5 1796,-385.5 1790,-379.5 1790,-373.5 1790,-373.5 1790,-329.5 1790,-329.5 1790,-323.5 1796,-317.5 1802,-317.5 1802,-317.5 1894,-317.5 1894,-317.5 1900,-317.5 1906,-323.5 1906,-329.5 1906,-329.5 1906,-373.5 1906,-373.5 1906,-379.5 1900,-385.5 1894,-385.5\"/>\n<text text-anchor=\"start\" x=\"1818.5\" y=\"-370.3\" font-family=\"Helvetica,sans-Serif\" font-size=\"14.00\" fill=\"#000000\">gini = 0.0</text>\n<text text-anchor=\"start\" x=\"1800\" y=\"-355.3\" font-family=\"Helvetica,sans-Serif\" font-size=\"14.00\" fill=\"#000000\">samples = 159</text>\n<text text-anchor=\"start\" x=\"1798\" y=\"-340.3\" font-family=\"Helvetica,sans-Serif\" font-size=\"14.00\" fill=\"#000000\">value = [0, 159]</text>\n<text text-anchor=\"start\" x=\"1805.5\" y=\"-325.3\" font-family=\"Helvetica,sans-Serif\" font-size=\"14.00\" fill=\"#000000\">class = in_ny</text>\n</g>\n<!-- 80&#45;&gt;90 -->\n<g id=\"edge60\" class=\"edge\">\n<title>80&#45;&gt;90</title>\n<path fill=\"none\" stroke=\"#000000\" d=\"M1745.911,-428.8796C1761.7994,-416.8368 1779.1091,-403.7167 1794.8857,-391.7586\"/>\n<polygon fill=\"#000000\" stroke=\"#000000\" points=\"1797.1253,-394.4529 1802.9805,-385.623 1792.8969,-388.8743 1797.1253,-394.4529\"/>\n</g>\n<!-- 82 -->\n<g id=\"node55\" class=\"node\">\n<title>82</title>\n<path fill=\"#399de5\" stroke=\"#000000\" d=\"M1732.5,-266.5C1732.5,-266.5 1649.5,-266.5 1649.5,-266.5 1643.5,-266.5 1637.5,-260.5 1637.5,-254.5 1637.5,-254.5 1637.5,-210.5 1637.5,-210.5 1637.5,-204.5 1643.5,-198.5 1649.5,-198.5 1649.5,-198.5 1732.5,-198.5 1732.5,-198.5 1738.5,-198.5 1744.5,-204.5 1744.5,-210.5 1744.5,-210.5 1744.5,-254.5 1744.5,-254.5 1744.5,-260.5 1738.5,-266.5 1732.5,-266.5\"/>\n<text text-anchor=\"start\" x=\"1661.5\" y=\"-251.3\" font-family=\"Helvetica,sans-Serif\" font-size=\"14.00\" fill=\"#000000\">gini = 0.0</text>\n<text text-anchor=\"start\" x=\"1647\" y=\"-236.3\" font-family=\"Helvetica,sans-Serif\" font-size=\"14.00\" fill=\"#000000\">samples = 10</text>\n<text text-anchor=\"start\" x=\"1645.5\" y=\"-221.3\" font-family=\"Helvetica,sans-Serif\" font-size=\"14.00\" fill=\"#000000\">value = [0, 10]</text>\n<text text-anchor=\"start\" x=\"1648.5\" y=\"-206.3\" font-family=\"Helvetica,sans-Serif\" font-size=\"14.00\" fill=\"#000000\">class = in_ny</text>\n</g>\n<!-- 81&#45;&gt;82 -->\n<g id=\"edge54\" class=\"edge\">\n<title>81&#45;&gt;82</title>\n<path fill=\"none\" stroke=\"#000000\" d=\"M1691,-309.8796C1691,-299.2134 1691,-287.7021 1691,-276.9015\"/>\n<polygon fill=\"#000000\" stroke=\"#000000\" points=\"1694.5001,-276.8149 1691,-266.8149 1687.5001,-276.815 1694.5001,-276.8149\"/>\n</g>\n<!-- 83 -->\n<g id=\"node56\" class=\"node\">\n<title>83</title>\n<path fill=\"#d7ebfa\" stroke=\"#000000\" d=\"M1920.5,-274C1920.5,-274 1775.5,-274 1775.5,-274 1769.5,-274 1763.5,-268 1763.5,-262 1763.5,-262 1763.5,-203 1763.5,-203 1763.5,-197 1769.5,-191 1775.5,-191 1775.5,-191 1920.5,-191 1920.5,-191 1926.5,-191 1932.5,-197 1932.5,-203 1932.5,-203 1932.5,-262 1932.5,-262 1932.5,-268 1926.5,-274 1920.5,-274\"/>\n<text text-anchor=\"start\" x=\"1771.5\" y=\"-258.8\" font-family=\"Helvetica,sans-Serif\" font-size=\"14.00\" fill=\"#000000\">price_per_sqft ≤ 1231.5</text>\n<text text-anchor=\"start\" x=\"1810\" y=\"-243.8\" font-family=\"Helvetica,sans-Serif\" font-size=\"14.00\" fill=\"#000000\">gini = 0.494</text>\n<text text-anchor=\"start\" x=\"1808.5\" y=\"-228.8\" font-family=\"Helvetica,sans-Serif\" font-size=\"14.00\" fill=\"#000000\">samples = 9</text>\n<text text-anchor=\"start\" x=\"1806.5\" y=\"-213.8\" font-family=\"Helvetica,sans-Serif\" font-size=\"14.00\" fill=\"#000000\">value = [4, 5]</text>\n<text text-anchor=\"start\" x=\"1805.5\" y=\"-198.8\" font-family=\"Helvetica,sans-Serif\" font-size=\"14.00\" fill=\"#000000\">class = in_ny</text>\n</g>\n<!-- 81&#45;&gt;83 -->\n<g id=\"edge55\" class=\"edge\">\n<title>81&#45;&gt;83</title>\n<path fill=\"none\" stroke=\"#000000\" d=\"M1745.911,-309.8796C1758.5794,-300.2774 1772.1515,-289.9903 1785.1295,-280.1534\"/>\n<polygon fill=\"#000000\" stroke=\"#000000\" points=\"1787.2648,-282.9268 1793.12,-274.0969 1783.0364,-277.3482 1787.2648,-282.9268\"/>\n</g>\n<!-- 84 -->\n<g id=\"node57\" class=\"node\">\n<title>84</title>\n<path fill=\"#eca06a\" stroke=\"#000000\" d=\"M1898.5,-155C1898.5,-155 1797.5,-155 1797.5,-155 1791.5,-155 1785.5,-149 1785.5,-143 1785.5,-143 1785.5,-84 1785.5,-84 1785.5,-78 1791.5,-72 1797.5,-72 1797.5,-72 1898.5,-72 1898.5,-72 1904.5,-72 1910.5,-78 1910.5,-84 1910.5,-84 1910.5,-143 1910.5,-143 1910.5,-149 1904.5,-155 1898.5,-155\"/>\n<text text-anchor=\"start\" x=\"1793.5\" y=\"-139.8\" font-family=\"Helvetica,sans-Serif\" font-size=\"14.00\" fill=\"#000000\">price ≤ 724000.0</text>\n<text text-anchor=\"start\" x=\"1814.5\" y=\"-124.8\" font-family=\"Helvetica,sans-Serif\" font-size=\"14.00\" fill=\"#000000\">gini = 0.32</text>\n<text text-anchor=\"start\" x=\"1808.5\" y=\"-109.8\" font-family=\"Helvetica,sans-Serif\" font-size=\"14.00\" fill=\"#000000\">samples = 5</text>\n<text text-anchor=\"start\" x=\"1806.5\" y=\"-94.8\" font-family=\"Helvetica,sans-Serif\" font-size=\"14.00\" fill=\"#000000\">value = [4, 1]</text>\n<text text-anchor=\"start\" x=\"1807.5\" y=\"-79.8\" font-family=\"Helvetica,sans-Serif\" font-size=\"14.00\" fill=\"#000000\">class = in_sf</text>\n</g>\n<!-- 83&#45;&gt;84 -->\n<g id=\"edge56\" class=\"edge\">\n<title>83&#45;&gt;84</title>\n<path fill=\"none\" stroke=\"#000000\" d=\"M1848,-190.8796C1848,-182.6838 1848,-173.9891 1848,-165.5013\"/>\n<polygon fill=\"#000000\" stroke=\"#000000\" points=\"1851.5001,-165.298 1848,-155.2981 1844.5001,-165.2981 1851.5001,-165.298\"/>\n</g>\n<!-- 89 -->\n<g id=\"node60\" class=\"node\">\n<title>89</title>\n<path fill=\"#399de5\" stroke=\"#000000\" d=\"M2017.5,-147.5C2017.5,-147.5 1940.5,-147.5 1940.5,-147.5 1934.5,-147.5 1928.5,-141.5 1928.5,-135.5 1928.5,-135.5 1928.5,-91.5 1928.5,-91.5 1928.5,-85.5 1934.5,-79.5 1940.5,-79.5 1940.5,-79.5 2017.5,-79.5 2017.5,-79.5 2023.5,-79.5 2029.5,-85.5 2029.5,-91.5 2029.5,-91.5 2029.5,-135.5 2029.5,-135.5 2029.5,-141.5 2023.5,-147.5 2017.5,-147.5\"/>\n<text text-anchor=\"start\" x=\"1949.5\" y=\"-132.3\" font-family=\"Helvetica,sans-Serif\" font-size=\"14.00\" fill=\"#000000\">gini = 0.0</text>\n<text text-anchor=\"start\" x=\"1939.5\" y=\"-117.3\" font-family=\"Helvetica,sans-Serif\" font-size=\"14.00\" fill=\"#000000\">samples = 4</text>\n<text text-anchor=\"start\" x=\"1937.5\" y=\"-102.3\" font-family=\"Helvetica,sans-Serif\" font-size=\"14.00\" fill=\"#000000\">value = [0, 4]</text>\n<text text-anchor=\"start\" x=\"1936.5\" y=\"-87.3\" font-family=\"Helvetica,sans-Serif\" font-size=\"14.00\" fill=\"#000000\">class = in_ny</text>\n</g>\n<!-- 83&#45;&gt;89 -->\n<g id=\"edge59\" class=\"edge\">\n<title>83&#45;&gt;89</title>\n<path fill=\"none\" stroke=\"#000000\" d=\"M1893.8174,-190.8796C1906.7697,-179.1138 1920.854,-166.3197 1933.7714,-154.5855\"/>\n<polygon fill=\"#000000\" stroke=\"#000000\" points=\"1936.1761,-157.1296 1941.2247,-147.8149 1931.4694,-151.9482 1936.1761,-157.1296\"/>\n</g>\n<!-- 85 -->\n<g id=\"node58\" class=\"node\">\n<title>85</title>\n<path fill=\"#c0c0c0\" stroke=\"#000000\" d=\"M1827,-36C1827,-36 1797,-36 1797,-36 1791,-36 1785,-30 1785,-24 1785,-24 1785,-12 1785,-12 1785,-6 1791,0 1797,0 1797,0 1827,0 1827,0 1833,0 1839,-6 1839,-12 1839,-12 1839,-24 1839,-24 1839,-30 1833,-36 1827,-36\"/>\n<text text-anchor=\"middle\" x=\"1812\" y=\"-14.3\" font-family=\"Helvetica,sans-Serif\" font-size=\"14.00\" fill=\"#000000\">(...)</text>\n</g>\n<!-- 84&#45;&gt;85 -->\n<g id=\"edge57\" class=\"edge\">\n<title>84&#45;&gt;85</title>\n<path fill=\"none\" stroke=\"#000000\" d=\"M1832.3146,-71.8901C1828.9739,-63.0279 1825.525,-53.8788 1822.4386,-45.6913\"/>\n<polygon fill=\"#000000\" stroke=\"#000000\" points=\"1825.6877,-44.3878 1818.8853,-36.2651 1819.1376,-46.8569 1825.6877,-44.3878\"/>\n</g>\n<!-- 88 -->\n<g id=\"node59\" class=\"node\">\n<title>88</title>\n<path fill=\"#c0c0c0\" stroke=\"#000000\" d=\"M1899,-36C1899,-36 1869,-36 1869,-36 1863,-36 1857,-30 1857,-24 1857,-24 1857,-12 1857,-12 1857,-6 1863,0 1869,0 1869,0 1899,0 1899,0 1905,0 1911,-6 1911,-12 1911,-12 1911,-24 1911,-24 1911,-30 1905,-36 1899,-36\"/>\n<text text-anchor=\"middle\" x=\"1884\" y=\"-14.3\" font-family=\"Helvetica,sans-Serif\" font-size=\"14.00\" fill=\"#000000\">(...)</text>\n</g>\n<!-- 84&#45;&gt;88 -->\n<g id=\"edge58\" class=\"edge\">\n<title>84&#45;&gt;88</title>\n<path fill=\"none\" stroke=\"#000000\" d=\"M1863.6854,-71.8901C1867.0261,-63.0279 1870.475,-53.8788 1873.5614,-45.6913\"/>\n<polygon fill=\"#000000\" stroke=\"#000000\" points=\"1876.8624,-46.8569 1877.1147,-36.2651 1870.3123,-44.3878 1876.8624,-46.8569\"/>\n</g>\n</g>\n</svg>\n"
          },
          "metadata": {
            "tags": []
          },
          "execution_count": 9
        }
      ]
    },
    {
      "cell_type": "code",
      "metadata": {
        "id": "BIwLlbzSiABQ",
        "colab": {
          "base_uri": "https://localhost:8080/"
        },
        "outputId": "12ab3788-23a8-46c4-90ca-e85d5db7418a"
      },
      "source": [
        "# test the decision tree\n",
        "#clf.predict(iris.data[:1, :])\n",
        "clf.predict([[3,3,2095000,1926,2200,952,4]])"
      ],
      "execution_count": 10,
      "outputs": [
        {
          "output_type": "execute_result",
          "data": {
            "text/plain": [
              "array([0], dtype=int32)"
            ]
          },
          "metadata": {
            "tags": []
          },
          "execution_count": 10
        }
      ]
    },
    {
      "cell_type": "markdown",
      "metadata": {
        "id": "XywzbSkJiABQ"
      },
      "source": [
        "# Gini Impurity vs Entropy\n",
        "\n",
        "\n",
        "$$\\mathit{Gini}(D) = 1 - \\sum_{j=1}^{c}p_j^2$$\n",
        "$$ \\mathit{Entropy}(D) = -\\sum_{j=1}^{c}p_j\\log p_j$$"
      ]
    },
    {
      "cell_type": "code",
      "metadata": {
        "collapsed": true,
        "id": "-eGePDKViABR"
      },
      "source": [
        "dataframe = pd.DataFrame({ 'in_sf' : target,\n",
        "                           'beds'  : features[::,0],\n",
        "                           'bath'  : features[::,1],\n",
        "                           'price' : features[::,2],\n",
        "                           'year_built' :features[::,3] ,\n",
        "                           'sqft' : features[::,4], \n",
        "                           'price_per_sqft': features[::,5],\n",
        "                           'elevation' : features[::,6]\n",
        "                         })"
      ],
      "execution_count": 11,
      "outputs": []
    },
    {
      "cell_type": "code",
      "metadata": {
        "colab": {
          "base_uri": "https://localhost:8080/",
          "height": 402
        },
        "id": "s-mkFb2unMyr",
        "outputId": "515837ed-28c3-4f8b-b9e9-8a64aadfa4ad"
      },
      "source": [
        "dataframe"
      ],
      "execution_count": 13,
      "outputs": [
        {
          "output_type": "execute_result",
          "data": {
            "text/html": [
              "<div>\n",
              "<style scoped>\n",
              "    .dataframe tbody tr th:only-of-type {\n",
              "        vertical-align: middle;\n",
              "    }\n",
              "\n",
              "    .dataframe tbody tr th {\n",
              "        vertical-align: top;\n",
              "    }\n",
              "\n",
              "    .dataframe thead th {\n",
              "        text-align: right;\n",
              "    }\n",
              "</style>\n",
              "<table border=\"1\" class=\"dataframe\">\n",
              "  <thead>\n",
              "    <tr style=\"text-align: right;\">\n",
              "      <th></th>\n",
              "      <th>in_sf</th>\n",
              "      <th>beds</th>\n",
              "      <th>bath</th>\n",
              "      <th>price</th>\n",
              "      <th>year_built</th>\n",
              "      <th>sqft</th>\n",
              "      <th>price_per_sqft</th>\n",
              "      <th>elevation</th>\n",
              "    </tr>\n",
              "  </thead>\n",
              "  <tbody>\n",
              "    <tr>\n",
              "      <th>0</th>\n",
              "      <td>0</td>\n",
              "      <td>2</td>\n",
              "      <td>1</td>\n",
              "      <td>999000</td>\n",
              "      <td>1960</td>\n",
              "      <td>1000</td>\n",
              "      <td>999</td>\n",
              "      <td>10</td>\n",
              "    </tr>\n",
              "    <tr>\n",
              "      <th>1</th>\n",
              "      <td>0</td>\n",
              "      <td>2</td>\n",
              "      <td>2</td>\n",
              "      <td>2750000</td>\n",
              "      <td>2006</td>\n",
              "      <td>1418</td>\n",
              "      <td>1939</td>\n",
              "      <td>0</td>\n",
              "    </tr>\n",
              "    <tr>\n",
              "      <th>2</th>\n",
              "      <td>0</td>\n",
              "      <td>2</td>\n",
              "      <td>2</td>\n",
              "      <td>1350000</td>\n",
              "      <td>1900</td>\n",
              "      <td>2150</td>\n",
              "      <td>628</td>\n",
              "      <td>9</td>\n",
              "    </tr>\n",
              "    <tr>\n",
              "      <th>3</th>\n",
              "      <td>0</td>\n",
              "      <td>1</td>\n",
              "      <td>1</td>\n",
              "      <td>629000</td>\n",
              "      <td>1903</td>\n",
              "      <td>500</td>\n",
              "      <td>1258</td>\n",
              "      <td>9</td>\n",
              "    </tr>\n",
              "    <tr>\n",
              "      <th>4</th>\n",
              "      <td>0</td>\n",
              "      <td>0</td>\n",
              "      <td>1</td>\n",
              "      <td>439000</td>\n",
              "      <td>1930</td>\n",
              "      <td>500</td>\n",
              "      <td>878</td>\n",
              "      <td>10</td>\n",
              "    </tr>\n",
              "    <tr>\n",
              "      <th>...</th>\n",
              "      <td>...</td>\n",
              "      <td>...</td>\n",
              "      <td>...</td>\n",
              "      <td>...</td>\n",
              "      <td>...</td>\n",
              "      <td>...</td>\n",
              "      <td>...</td>\n",
              "      <td>...</td>\n",
              "    </tr>\n",
              "    <tr>\n",
              "      <th>487</th>\n",
              "      <td>1</td>\n",
              "      <td>5</td>\n",
              "      <td>2</td>\n",
              "      <td>1800000</td>\n",
              "      <td>1890</td>\n",
              "      <td>3073</td>\n",
              "      <td>586</td>\n",
              "      <td>76</td>\n",
              "    </tr>\n",
              "    <tr>\n",
              "      <th>488</th>\n",
              "      <td>1</td>\n",
              "      <td>2</td>\n",
              "      <td>1</td>\n",
              "      <td>695000</td>\n",
              "      <td>1923</td>\n",
              "      <td>1045</td>\n",
              "      <td>665</td>\n",
              "      <td>106</td>\n",
              "    </tr>\n",
              "    <tr>\n",
              "      <th>489</th>\n",
              "      <td>1</td>\n",
              "      <td>3</td>\n",
              "      <td>2</td>\n",
              "      <td>1650000</td>\n",
              "      <td>1922</td>\n",
              "      <td>1483</td>\n",
              "      <td>1113</td>\n",
              "      <td>106</td>\n",
              "    </tr>\n",
              "    <tr>\n",
              "      <th>490</th>\n",
              "      <td>1</td>\n",
              "      <td>1</td>\n",
              "      <td>1</td>\n",
              "      <td>649000</td>\n",
              "      <td>1983</td>\n",
              "      <td>850</td>\n",
              "      <td>764</td>\n",
              "      <td>163</td>\n",
              "    </tr>\n",
              "    <tr>\n",
              "      <th>491</th>\n",
              "      <td>1</td>\n",
              "      <td>3</td>\n",
              "      <td>2</td>\n",
              "      <td>995000</td>\n",
              "      <td>1956</td>\n",
              "      <td>1305</td>\n",
              "      <td>762</td>\n",
              "      <td>216</td>\n",
              "    </tr>\n",
              "  </tbody>\n",
              "</table>\n",
              "<p>492 rows × 8 columns</p>\n",
              "</div>"
            ],
            "text/plain": [
              "     in_sf  beds  bath    price  year_built  sqft  price_per_sqft  elevation\n",
              "0        0     2     1   999000        1960  1000             999         10\n",
              "1        0     2     2  2750000        2006  1418            1939          0\n",
              "2        0     2     2  1350000        1900  2150             628          9\n",
              "3        0     1     1   629000        1903   500            1258          9\n",
              "4        0     0     1   439000        1930   500             878         10\n",
              "..     ...   ...   ...      ...         ...   ...             ...        ...\n",
              "487      1     5     2  1800000        1890  3073             586         76\n",
              "488      1     2     1   695000        1923  1045             665        106\n",
              "489      1     3     2  1650000        1922  1483            1113        106\n",
              "490      1     1     1   649000        1983   850             764        163\n",
              "491      1     3     2   995000        1956  1305             762        216\n",
              "\n",
              "[492 rows x 8 columns]"
            ]
          },
          "metadata": {
            "tags": []
          },
          "execution_count": 13
        }
      ]
    }
  ]
}